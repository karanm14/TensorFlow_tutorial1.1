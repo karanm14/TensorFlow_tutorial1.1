{
 "cells": [
  {
   "cell_type": "code",
   "execution_count": 1,
   "metadata": {},
   "outputs": [
    {
     "name": "stderr",
     "output_type": "stream",
     "text": [
      "/Users/karanmaheshwari/anaconda3/lib/python3.6/site-packages/h5py/__init__.py:36: FutureWarning: Conversion of the second argument of issubdtype from `float` to `np.floating` is deprecated. In future, it will be treated as `np.float64 == np.dtype(float).type`.\n",
      "  from ._conv import register_converters as _register_converters\n"
     ]
    }
   ],
   "source": [
    "import tensorflow as tf"
   ]
  },
  {
   "cell_type": "code",
   "execution_count": 2,
   "metadata": {},
   "outputs": [],
   "source": [
    "sess=tf.InteractiveSession()"
   ]
  },
  {
   "cell_type": "code",
   "execution_count": 3,
   "metadata": {},
   "outputs": [
    {
     "name": "stdout",
     "output_type": "stream",
     "text": [
      "[[1. 0. 0. 0. 0.]\n",
      " [0. 1. 0. 0. 0.]\n",
      " [0. 0. 1. 0. 0.]\n",
      " [0. 0. 0. 1. 0.]\n",
      " [0. 0. 0. 0. 1.]]\n"
     ]
    }
   ],
   "source": [
    "A=tf.eye(5)\n",
    "print(A.eval())"
   ]
  },
  {
   "cell_type": "code",
   "execution_count": 5,
   "metadata": {},
   "outputs": [
    {
     "name": "stdout",
     "output_type": "stream",
     "text": [
      "[[1. 0. 0. 0. 0. 0. 0. 0. 0. 0.]\n",
      " [0. 1. 0. 0. 0. 0. 0. 0. 0. 0.]\n",
      " [0. 0. 1. 0. 0. 0. 0. 0. 0. 0.]\n",
      " [0. 0. 0. 1. 0. 0. 0. 0. 0. 0.]\n",
      " [0. 0. 0. 0. 1. 0. 0. 0. 0. 0.]\n",
      " [0. 0. 0. 0. 0. 1. 0. 0. 0. 0.]\n",
      " [0. 0. 0. 0. 0. 0. 1. 0. 0. 0.]\n",
      " [0. 0. 0. 0. 0. 0. 0. 1. 0. 0.]\n",
      " [0. 0. 0. 0. 0. 0. 0. 0. 1. 0.]\n",
      " [0. 0. 0. 0. 0. 0. 0. 0. 0. 1.]]\n"
     ]
    }
   ],
   "source": [
    "x=tf.Variable(tf.eye(10))\n",
    "x.initializer.run()\n",
    "print(x.eval())"
   ]
  },
  {
   "cell_type": "code",
   "execution_count": 6,
   "metadata": {},
   "outputs": [
    {
     "name": "stdout",
     "output_type": "stream",
     "text": [
      "[[-0.43543953 -0.14549984 -0.1269305   2.0527587   0.40853584  1.0295079\n",
      "   0.33856404 -0.4111957  -1.0792153   1.0914942 ]\n",
      " [-0.17752294  0.5936171  -1.486783    0.20352297 -0.16385281  0.724033\n",
      "   1.674634    0.37638232  0.41786543  0.16090234]\n",
      " [-1.8710817  -0.2592726   1.20153     0.4493838   0.56849045  0.21002127\n",
      "  -0.02142774 -1.0946039  -0.65600425 -0.5108071 ]\n",
      " [ 1.1553591  -0.39693356  1.1166642  -0.13033736  0.57233405 -0.7934436\n",
      "  -0.65022147  1.2947086   0.88468015 -0.6411021 ]\n",
      " [-0.75386447  0.07572728  0.22126007 -1.181528    0.5486107   0.05902349\n",
      "   0.1141164  -0.58962786  0.2897303   0.5520315 ]]\n"
     ]
    }
   ],
   "source": [
    "a=tf.Variable(tf.random_normal([5,10]))\n",
    "a.initializer.run()\n",
    "product=tf.matmul(a,x)\n",
    "print(product.eval())"
   ]
  },
  {
   "cell_type": "code",
   "execution_count": 43,
   "metadata": {},
   "outputs": [],
   "source": [
    "a=tf.Variable(tf.random_normal([4,5],stddev=2))\n",
    "b=tf.Variable(tf.random_normal([4,5],stddev=2))\n",
    "A=a*b\n"
   ]
  },
  {
   "cell_type": "code",
   "execution_count": 44,
   "metadata": {},
   "outputs": [],
   "source": [
    "B=tf.scalar_mul(2,A)"
   ]
  },
  {
   "cell_type": "code",
   "execution_count": 45,
   "metadata": {},
   "outputs": [],
   "source": [
    "C=tf.div(a,b)\n",
    "D=tf.mod(a,b)"
   ]
  },
  {
   "cell_type": "code",
   "execution_count": 46,
   "metadata": {},
   "outputs": [
    {
     "name": "stdout",
     "output_type": "stream",
     "text": [
      "a\n",
      " [[ 1.4060699   1.6095372  -2.379558   -0.54501843 -0.8239009 ]\n",
      " [-0.8561215   1.7539928   0.21434067  0.8988431   1.6785827 ]\n",
      " [ 0.18259737 -2.8383813  -0.593676   -2.9168515   0.8030996 ]\n",
      " [ 2.0902853   3.3624835   0.9441093  -0.968861    0.9877891 ]] \n",
      "b\n",
      " [[-0.7702733   0.43195173 -0.95015585 -3.8042567  -2.1249344 ]\n",
      " [ 1.9544953  -3.4869661   2.9330106  -0.05248604  1.132383  ]\n",
      " [ 0.3836645  -0.64619863  2.6206071  -3.3577545  -2.9104805 ]\n",
      " [-0.2122083   0.8526162  -0.06924599  1.3083729  -0.9709403 ]] \n",
      " [[-1.0830581   0.6952424   2.260951    2.07339     1.7507354 ]\n",
      " [-1.6732854  -6.1161137   0.6286635  -0.04717671  1.9007984 ]\n",
      " [ 0.07005613  1.8341581  -1.5557915   9.794071   -2.3374057 ]\n",
      " [-0.4435759   2.8669078  -0.06537579 -1.2676314  -0.9590842 ]]\n"
     ]
    }
   ],
   "source": [
    "init=tf.global_variables_initializer()\n",
    "with tf.Session() as sess:\n",
    "    sess.run(init)\n",
    "    writer=tf.summary.FileWriter('graphs',sess.graph)\n",
    "    a,b,A_R,B_R,C_R,D_R=sess.run([a,b,A,B,C,D])\n",
    "    print(\"a\\n\",a,\"\\nb\\n\",b,\"\\n\",A_R)\n",
    "    writer.close()"
   ]
  },
  {
   "cell_type": "code",
   "execution_count": 6,
   "metadata": {},
   "outputs": [],
   "source": [
    "import tensorflow as tf"
   ]
  },
  {
   "cell_type": "code",
   "execution_count": 7,
   "metadata": {},
   "outputs": [],
   "source": [
    "msg = tf.constant(\"hello!\")"
   ]
  },
  {
   "cell_type": "code",
   "execution_count": 9,
   "metadata": {},
   "outputs": [
    {
     "name": "stdout",
     "output_type": "stream",
     "text": [
      "hello!\n"
     ]
    }
   ],
   "source": [
    "with tf.Session() as sess:\n",
    "    print(sess.run(msg).decode())"
   ]
  },
  {
   "cell_type": "code",
   "execution_count": 11,
   "metadata": {},
   "outputs": [],
   "source": [
    "v1 = tf.constant([1,2,3])\n",
    "v2 = tf.constant([4,5,6])"
   ]
  },
  {
   "cell_type": "code",
   "execution_count": 12,
   "metadata": {},
   "outputs": [],
   "source": [
    "x = tf.add(v1,v2)"
   ]
  },
  {
   "cell_type": "code",
   "execution_count": 14,
   "metadata": {},
   "outputs": [
    {
     "name": "stdout",
     "output_type": "stream",
     "text": [
      "[5 7 9]\n"
     ]
    }
   ],
   "source": [
    "with tf.Session() as sess:\n",
    "    print(sess.run(x))"
   ]
  },
  {
   "cell_type": "code",
   "execution_count": 15,
   "metadata": {},
   "outputs": [],
   "source": [
    "import tensorflow as tf"
   ]
  },
  {
   "cell_type": "code",
   "execution_count": 16,
   "metadata": {},
   "outputs": [],
   "source": [
    "t1 = tf.constant(4)\n",
    "t2 = tf.constant([1,2,3])"
   ]
  },
  {
   "cell_type": "code",
   "execution_count": 17,
   "metadata": {},
   "outputs": [],
   "source": [
    "tf.add = (t1+t2)"
   ]
  },
  {
   "cell_type": "code",
   "execution_count": 18,
   "metadata": {},
   "outputs": [
    {
     "name": "stdout",
     "output_type": "stream",
     "text": [
      "[5 6 7]\n"
     ]
    }
   ],
   "source": [
    "with tf.Session() as sess:\n",
    "    print(sess.run(t1+t2))"
   ]
  },
  {
   "cell_type": "code",
   "execution_count": 19,
   "metadata": {},
   "outputs": [],
   "source": [
    "x=tf.zeros([3,3],tf.int32)"
   ]
  },
  {
   "cell_type": "code",
   "execution_count": 20,
   "metadata": {},
   "outputs": [
    {
     "name": "stdout",
     "output_type": "stream",
     "text": [
      "[[0 0 0]\n",
      " [0 0 0]\n",
      " [0 0 0]]\n"
     ]
    }
   ],
   "source": [
    "with tf.Session() as sess:\n",
    "    print(sess.run(x))"
   ]
  },
  {
   "cell_type": "code",
   "execution_count": 21,
   "metadata": {},
   "outputs": [],
   "source": [
    "y = tf.ones_like(t2,tf.float32)"
   ]
  },
  {
   "cell_type": "code",
   "execution_count": 22,
   "metadata": {},
   "outputs": [
    {
     "name": "stdout",
     "output_type": "stream",
     "text": [
      "[1. 1. 1.]\n"
     ]
    }
   ],
   "source": [
    "with tf.Session() as sess:\n",
    "    print(sess.run(y))"
   ]
  },
  {
   "cell_type": "code",
   "execution_count": 25,
   "metadata": {},
   "outputs": [],
   "source": [
    "x1= tf.linspace(1.0,10,3)"
   ]
  },
  {
   "cell_type": "code",
   "execution_count": 26,
   "metadata": {},
   "outputs": [
    {
     "name": "stdout",
     "output_type": "stream",
     "text": [
      "[ 1.   5.5 10. ]\n"
     ]
    }
   ],
   "source": [
    "with tf.Session() as sess:\n",
    "    print(sess.run(x1))"
   ]
  },
  {
   "cell_type": "code",
   "execution_count": 27,
   "metadata": {},
   "outputs": [],
   "source": [
    "t_random = tf.random_normal([2,3], mean=5.0, stddev=12.0, seed = 12)"
   ]
  },
  {
   "cell_type": "code",
   "execution_count": 28,
   "metadata": {},
   "outputs": [
    {
     "name": "stdout",
     "output_type": "stream",
     "text": [
      "[[-0.23957634 15.13973     4.8582816 ]\n",
      " [-5.612809    2.7766953   7.54342   ]]\n"
     ]
    }
   ],
   "source": [
    "with tf.Session() as sess:\n",
    "    print(sess.run(t_random))"
   ]
  },
  {
   "cell_type": "code",
   "execution_count": 34,
   "metadata": {},
   "outputs": [],
   "source": [
    "x2 = tf.range(1,10,1)\n",
    "x3 = tf.random_shuffle(x2)"
   ]
  },
  {
   "cell_type": "code",
   "execution_count": 35,
   "metadata": {},
   "outputs": [
    {
     "name": "stdout",
     "output_type": "stream",
     "text": [
      "6\n",
      "9\n",
      "7\n",
      "4\n",
      "8\n",
      "1\n",
      "3\n",
      "5\n",
      "2\n"
     ]
    }
   ],
   "source": [
    "with tf.Session() as sess:\n",
    "    for i in (sess.run(x3)):\n",
    "        print(i)"
   ]
  },
  {
   "cell_type": "code",
   "execution_count": 37,
   "metadata": {},
   "outputs": [],
   "source": [
    "rand_t = tf.random_uniform([50,50],0,10,seed=12)\n",
    "t1 = tf.Variable(rand_t)\n",
    "t2 = tf.Variable(rand_t)"
   ]
  },
  {
   "cell_type": "code",
   "execution_count": 42,
   "metadata": {},
   "outputs": [],
   "source": [
    "a=tf.subtract(t1,t2)\n",
    "initial_op = tf.global_variables_initializer()"
   ]
  },
  {
   "cell_type": "code",
   "execution_count": 43,
   "metadata": {},
   "outputs": [
    {
     "name": "stdout",
     "output_type": "stream",
     "text": [
      "[[0. 0. 0. ... 0. 0. 0.]\n",
      " [0. 0. 0. ... 0. 0. 0.]\n",
      " [0. 0. 0. ... 0. 0. 0.]\n",
      " ...\n",
      " [0. 0. 0. ... 0. 0. 0.]\n",
      " [0. 0. 0. ... 0. 0. 0.]\n",
      " [0. 0. 0. ... 0. 0. 0.]]\n"
     ]
    }
   ],
   "source": [
    "with tf.Session() as sess:\n",
    "    sess.run(initial_op)\n",
    "    print(sess.run(a))"
   ]
  },
  {
   "cell_type": "code",
   "execution_count": 48,
   "metadata": {},
   "outputs": [],
   "source": [
    "weights = tf.Variable(tf.random_normal([100,100],stddev=2.0), name=\"w1\")\n",
    "bias = tf.Variable(tf.zeros(100), name=\"b1\")"
   ]
  },
  {
   "cell_type": "code",
   "execution_count": 49,
   "metadata": {},
   "outputs": [],
   "source": [
    "weights2 = tf.Variable(weights.initialized_value(),name='w2')"
   ]
  },
  {
   "cell_type": "code",
   "execution_count": 50,
   "metadata": {},
   "outputs": [],
   "source": [
    "initial_op = tf.global_variables_initializer()"
   ]
  },
  {
   "cell_type": "code",
   "execution_count": 54,
   "metadata": {},
   "outputs": [
    {
     "name": "stdout",
     "output_type": "stream",
     "text": [
      "[[0. 0. 0. ... 0. 0. 0.]\n",
      " [0. 0. 0. ... 0. 0. 0.]\n",
      " [0. 0. 0. ... 0. 0. 0.]\n",
      " ...\n",
      " [0. 0. 0. ... 0. 0. 0.]\n",
      " [0. 0. 0. ... 0. 0. 0.]\n",
      " [0. 0. 0. ... 0. 0. 0.]]\n"
     ]
    }
   ],
   "source": [
    "with tf.Session() as sess:\n",
    "    sess.run(initial_op)\n",
    "    print(sess.run(weights-weights2))"
   ]
  },
  {
   "cell_type": "code",
   "execution_count": 59,
   "metadata": {},
   "outputs": [],
   "source": [
    "saver=tf.train.Saver([weights2])"
   ]
  },
  {
   "cell_type": "code",
   "execution_count": 61,
   "metadata": {
    "scrolled": true
   },
   "outputs": [
    {
     "ename": "TypeError",
     "evalue": "Expected float32, got <tensorflow.python.training.saver.Saver object at 0x1822e00470> of type 'Saver' instead.",
     "output_type": "error",
     "traceback": [
      "\u001b[0;31m---------------------------------------------------------------------------\u001b[0m",
      "\u001b[0;31mTypeError\u001b[0m                                 Traceback (most recent call last)",
      "\u001b[0;32m<ipython-input-61-0e2350ed19cd>\u001b[0m in \u001b[0;36m<module>\u001b[0;34m()\u001b[0m\n\u001b[1;32m      1\u001b[0m \u001b[0;32mwith\u001b[0m \u001b[0mtf\u001b[0m\u001b[0;34m.\u001b[0m\u001b[0mSession\u001b[0m\u001b[0;34m(\u001b[0m\u001b[0;34m)\u001b[0m \u001b[0;32mas\u001b[0m \u001b[0msess\u001b[0m\u001b[0;34m:\u001b[0m\u001b[0;34m\u001b[0m\u001b[0m\n\u001b[0;32m----> 2\u001b[0;31m     \u001b[0mprint\u001b[0m\u001b[0;34m(\u001b[0m\u001b[0msess\u001b[0m\u001b[0;34m.\u001b[0m\u001b[0mrun\u001b[0m\u001b[0;34m(\u001b[0m\u001b[0mweights\u001b[0m\u001b[0;34m-\u001b[0m\u001b[0msaver\u001b[0m\u001b[0;34m)\u001b[0m\u001b[0;34m)\u001b[0m\u001b[0;34m\u001b[0m\u001b[0m\n\u001b[0m",
      "\u001b[0;32m~/anaconda3/lib/python3.6/site-packages/tensorflow/python/ops/variables.py\u001b[0m in \u001b[0;36m_run_op\u001b[0;34m(a, *args)\u001b[0m\n\u001b[1;32m    778\u001b[0m     \u001b[0;32mdef\u001b[0m \u001b[0m_run_op\u001b[0m\u001b[0;34m(\u001b[0m\u001b[0ma\u001b[0m\u001b[0;34m,\u001b[0m \u001b[0;34m*\u001b[0m\u001b[0margs\u001b[0m\u001b[0;34m)\u001b[0m\u001b[0;34m:\u001b[0m\u001b[0;34m\u001b[0m\u001b[0m\n\u001b[1;32m    779\u001b[0m       \u001b[0;31m# pylint: disable=protected-access\u001b[0m\u001b[0;34m\u001b[0m\u001b[0;34m\u001b[0m\u001b[0m\n\u001b[0;32m--> 780\u001b[0;31m       \u001b[0;32mreturn\u001b[0m \u001b[0mgetattr\u001b[0m\u001b[0;34m(\u001b[0m\u001b[0mops\u001b[0m\u001b[0;34m.\u001b[0m\u001b[0mTensor\u001b[0m\u001b[0;34m,\u001b[0m \u001b[0moperator\u001b[0m\u001b[0;34m)\u001b[0m\u001b[0;34m(\u001b[0m\u001b[0ma\u001b[0m\u001b[0;34m.\u001b[0m\u001b[0m_AsTensor\u001b[0m\u001b[0;34m(\u001b[0m\u001b[0;34m)\u001b[0m\u001b[0;34m,\u001b[0m \u001b[0;34m*\u001b[0m\u001b[0margs\u001b[0m\u001b[0;34m)\u001b[0m\u001b[0;34m\u001b[0m\u001b[0m\n\u001b[0m\u001b[1;32m    781\u001b[0m     \u001b[0;31m# Propagate __doc__ to wrapper\u001b[0m\u001b[0;34m\u001b[0m\u001b[0;34m\u001b[0m\u001b[0m\n\u001b[1;32m    782\u001b[0m     \u001b[0;32mtry\u001b[0m\u001b[0;34m:\u001b[0m\u001b[0;34m\u001b[0m\u001b[0m\n",
      "\u001b[0;32m~/anaconda3/lib/python3.6/site-packages/tensorflow/python/ops/math_ops.py\u001b[0m in \u001b[0;36mbinary_op_wrapper\u001b[0;34m(x, y)\u001b[0m\n\u001b[1;32m    923\u001b[0m       \u001b[0;32mif\u001b[0m \u001b[0;32mnot\u001b[0m \u001b[0misinstance\u001b[0m\u001b[0;34m(\u001b[0m\u001b[0my\u001b[0m\u001b[0;34m,\u001b[0m \u001b[0msparse_tensor\u001b[0m\u001b[0;34m.\u001b[0m\u001b[0mSparseTensor\u001b[0m\u001b[0;34m)\u001b[0m\u001b[0;34m:\u001b[0m\u001b[0;34m\u001b[0m\u001b[0m\n\u001b[1;32m    924\u001b[0m         \u001b[0;32mtry\u001b[0m\u001b[0;34m:\u001b[0m\u001b[0;34m\u001b[0m\u001b[0m\n\u001b[0;32m--> 925\u001b[0;31m           \u001b[0my\u001b[0m \u001b[0;34m=\u001b[0m \u001b[0mops\u001b[0m\u001b[0;34m.\u001b[0m\u001b[0mconvert_to_tensor\u001b[0m\u001b[0;34m(\u001b[0m\u001b[0my\u001b[0m\u001b[0;34m,\u001b[0m \u001b[0mdtype\u001b[0m\u001b[0;34m=\u001b[0m\u001b[0mx\u001b[0m\u001b[0;34m.\u001b[0m\u001b[0mdtype\u001b[0m\u001b[0;34m.\u001b[0m\u001b[0mbase_dtype\u001b[0m\u001b[0;34m,\u001b[0m \u001b[0mname\u001b[0m\u001b[0;34m=\u001b[0m\u001b[0;34m\"y\"\u001b[0m\u001b[0;34m)\u001b[0m\u001b[0;34m\u001b[0m\u001b[0m\n\u001b[0m\u001b[1;32m    926\u001b[0m         \u001b[0;32mexcept\u001b[0m \u001b[0mTypeError\u001b[0m\u001b[0;34m:\u001b[0m\u001b[0;34m\u001b[0m\u001b[0m\n\u001b[1;32m    927\u001b[0m           \u001b[0;31m# If the RHS is not a tensor, it might be a tensor aware object\u001b[0m\u001b[0;34m\u001b[0m\u001b[0;34m\u001b[0m\u001b[0m\n",
      "\u001b[0;32m~/anaconda3/lib/python3.6/site-packages/tensorflow/python/framework/ops.py\u001b[0m in \u001b[0;36mconvert_to_tensor\u001b[0;34m(value, dtype, name, preferred_dtype)\u001b[0m\n\u001b[1;32m    944\u001b[0m       \u001b[0mname\u001b[0m\u001b[0;34m=\u001b[0m\u001b[0mname\u001b[0m\u001b[0;34m,\u001b[0m\u001b[0;34m\u001b[0m\u001b[0m\n\u001b[1;32m    945\u001b[0m       \u001b[0mpreferred_dtype\u001b[0m\u001b[0;34m=\u001b[0m\u001b[0mpreferred_dtype\u001b[0m\u001b[0;34m,\u001b[0m\u001b[0;34m\u001b[0m\u001b[0m\n\u001b[0;32m--> 946\u001b[0;31m       as_ref=False)\n\u001b[0m\u001b[1;32m    947\u001b[0m \u001b[0;34m\u001b[0m\u001b[0m\n\u001b[1;32m    948\u001b[0m \u001b[0;34m\u001b[0m\u001b[0m\n",
      "\u001b[0;32m~/anaconda3/lib/python3.6/site-packages/tensorflow/python/framework/ops.py\u001b[0m in \u001b[0;36minternal_convert_to_tensor\u001b[0;34m(value, dtype, name, as_ref, preferred_dtype, ctx)\u001b[0m\n\u001b[1;32m   1034\u001b[0m \u001b[0;34m\u001b[0m\u001b[0m\n\u001b[1;32m   1035\u001b[0m     \u001b[0;32mif\u001b[0m \u001b[0mret\u001b[0m \u001b[0;32mis\u001b[0m \u001b[0;32mNone\u001b[0m\u001b[0;34m:\u001b[0m\u001b[0;34m\u001b[0m\u001b[0m\n\u001b[0;32m-> 1036\u001b[0;31m       \u001b[0mret\u001b[0m \u001b[0;34m=\u001b[0m \u001b[0mconversion_func\u001b[0m\u001b[0;34m(\u001b[0m\u001b[0mvalue\u001b[0m\u001b[0;34m,\u001b[0m \u001b[0mdtype\u001b[0m\u001b[0;34m=\u001b[0m\u001b[0mdtype\u001b[0m\u001b[0;34m,\u001b[0m \u001b[0mname\u001b[0m\u001b[0;34m=\u001b[0m\u001b[0mname\u001b[0m\u001b[0;34m,\u001b[0m \u001b[0mas_ref\u001b[0m\u001b[0;34m=\u001b[0m\u001b[0mas_ref\u001b[0m\u001b[0;34m)\u001b[0m\u001b[0;34m\u001b[0m\u001b[0m\n\u001b[0m\u001b[1;32m   1037\u001b[0m \u001b[0;34m\u001b[0m\u001b[0m\n\u001b[1;32m   1038\u001b[0m     \u001b[0;32mif\u001b[0m \u001b[0mret\u001b[0m \u001b[0;32mis\u001b[0m \u001b[0mNotImplemented\u001b[0m\u001b[0;34m:\u001b[0m\u001b[0;34m\u001b[0m\u001b[0m\n",
      "\u001b[0;32m~/anaconda3/lib/python3.6/site-packages/tensorflow/python/framework/constant_op.py\u001b[0m in \u001b[0;36m_constant_tensor_conversion_function\u001b[0;34m(v, dtype, name, as_ref)\u001b[0m\n\u001b[1;32m    233\u001b[0m                                          as_ref=False):\n\u001b[1;32m    234\u001b[0m   \u001b[0m_\u001b[0m \u001b[0;34m=\u001b[0m \u001b[0mas_ref\u001b[0m\u001b[0;34m\u001b[0m\u001b[0m\n\u001b[0;32m--> 235\u001b[0;31m   \u001b[0;32mreturn\u001b[0m \u001b[0mconstant\u001b[0m\u001b[0;34m(\u001b[0m\u001b[0mv\u001b[0m\u001b[0;34m,\u001b[0m \u001b[0mdtype\u001b[0m\u001b[0;34m=\u001b[0m\u001b[0mdtype\u001b[0m\u001b[0;34m,\u001b[0m \u001b[0mname\u001b[0m\u001b[0;34m=\u001b[0m\u001b[0mname\u001b[0m\u001b[0;34m)\u001b[0m\u001b[0;34m\u001b[0m\u001b[0m\n\u001b[0m\u001b[1;32m    236\u001b[0m \u001b[0;34m\u001b[0m\u001b[0m\n\u001b[1;32m    237\u001b[0m \u001b[0;34m\u001b[0m\u001b[0m\n",
      "\u001b[0;32m~/anaconda3/lib/python3.6/site-packages/tensorflow/python/framework/constant_op.py\u001b[0m in \u001b[0;36mconstant\u001b[0;34m(value, dtype, shape, name, verify_shape)\u001b[0m\n\u001b[1;32m    212\u001b[0m   tensor_value.tensor.CopyFrom(\n\u001b[1;32m    213\u001b[0m       tensor_util.make_tensor_proto(\n\u001b[0;32m--> 214\u001b[0;31m           value, dtype=dtype, shape=shape, verify_shape=verify_shape))\n\u001b[0m\u001b[1;32m    215\u001b[0m   \u001b[0mdtype_value\u001b[0m \u001b[0;34m=\u001b[0m \u001b[0mattr_value_pb2\u001b[0m\u001b[0;34m.\u001b[0m\u001b[0mAttrValue\u001b[0m\u001b[0;34m(\u001b[0m\u001b[0mtype\u001b[0m\u001b[0;34m=\u001b[0m\u001b[0mtensor_value\u001b[0m\u001b[0;34m.\u001b[0m\u001b[0mtensor\u001b[0m\u001b[0;34m.\u001b[0m\u001b[0mdtype\u001b[0m\u001b[0;34m)\u001b[0m\u001b[0;34m\u001b[0m\u001b[0m\n\u001b[1;32m    216\u001b[0m   const_tensor = g.create_op(\n",
      "\u001b[0;32m~/anaconda3/lib/python3.6/site-packages/tensorflow/python/framework/tensor_util.py\u001b[0m in \u001b[0;36mmake_tensor_proto\u001b[0;34m(values, dtype, shape, verify_shape)\u001b[0m\n\u001b[1;32m    431\u001b[0m       \u001b[0mnparray\u001b[0m \u001b[0;34m=\u001b[0m \u001b[0mnp\u001b[0m\u001b[0;34m.\u001b[0m\u001b[0mempty\u001b[0m\u001b[0;34m(\u001b[0m\u001b[0mshape\u001b[0m\u001b[0;34m,\u001b[0m \u001b[0mdtype\u001b[0m\u001b[0;34m=\u001b[0m\u001b[0mnp_dt\u001b[0m\u001b[0;34m)\u001b[0m\u001b[0;34m\u001b[0m\u001b[0m\n\u001b[1;32m    432\u001b[0m     \u001b[0;32melse\u001b[0m\u001b[0;34m:\u001b[0m\u001b[0;34m\u001b[0m\u001b[0m\n\u001b[0;32m--> 433\u001b[0;31m       \u001b[0m_AssertCompatible\u001b[0m\u001b[0;34m(\u001b[0m\u001b[0mvalues\u001b[0m\u001b[0;34m,\u001b[0m \u001b[0mdtype\u001b[0m\u001b[0;34m)\u001b[0m\u001b[0;34m\u001b[0m\u001b[0m\n\u001b[0m\u001b[1;32m    434\u001b[0m       \u001b[0mnparray\u001b[0m \u001b[0;34m=\u001b[0m \u001b[0mnp\u001b[0m\u001b[0;34m.\u001b[0m\u001b[0marray\u001b[0m\u001b[0;34m(\u001b[0m\u001b[0mvalues\u001b[0m\u001b[0;34m,\u001b[0m \u001b[0mdtype\u001b[0m\u001b[0;34m=\u001b[0m\u001b[0mnp_dt\u001b[0m\u001b[0;34m)\u001b[0m\u001b[0;34m\u001b[0m\u001b[0m\n\u001b[1;32m    435\u001b[0m       \u001b[0;31m# check to them.\u001b[0m\u001b[0;34m\u001b[0m\u001b[0;34m\u001b[0m\u001b[0m\n",
      "\u001b[0;32m~/anaconda3/lib/python3.6/site-packages/tensorflow/python/framework/tensor_util.py\u001b[0m in \u001b[0;36m_AssertCompatible\u001b[0;34m(values, dtype)\u001b[0m\n\u001b[1;32m    342\u001b[0m     \u001b[0;32melse\u001b[0m\u001b[0;34m:\u001b[0m\u001b[0;34m\u001b[0m\u001b[0m\n\u001b[1;32m    343\u001b[0m       raise TypeError(\"Expected %s, got %s of type '%s' instead.\" %\n\u001b[0;32m--> 344\u001b[0;31m                       (dtype.name, repr(mismatch), type(mismatch).__name__))\n\u001b[0m\u001b[1;32m    345\u001b[0m \u001b[0;34m\u001b[0m\u001b[0m\n\u001b[1;32m    346\u001b[0m \u001b[0;34m\u001b[0m\u001b[0m\n",
      "\u001b[0;31mTypeError\u001b[0m: Expected float32, got <tensorflow.python.training.saver.Saver object at 0x1822e00470> of type 'Saver' instead."
     ]
    }
   ],
   "source": [
    "with tf.Session() as sess:\n",
    "    print(sess.run(weights-saver))"
   ]
  },
  {
   "cell_type": "code",
   "execution_count": 67,
   "metadata": {},
   "outputs": [],
   "source": [
    "x=tf.placeholder(\"float\")\n",
    "y =2*x\n",
    "data = tf.random_uniform([3,3],10)\n"
   ]
  },
  {
   "cell_type": "code",
   "execution_count": 70,
   "metadata": {},
   "outputs": [
    {
     "name": "stdout",
     "output_type": "stream",
     "text": [
      "<class 'numpy.ndarray'>\n",
      "[[11.451993  16.674599  17.284348 ]\n",
      " [ 6.2702312 10.174442  13.002619 ]\n",
      " [13.157799  15.774317  18.758305 ]]\n"
     ]
    }
   ],
   "source": [
    "with tf.Session() as sess:\n",
    "    x_data=sess.run(data)\n",
    "    print(type(x_data))\n",
    "    print(sess.run(y,feed_dict={x:x_data}))"
   ]
  },
  {
   "cell_type": "code",
   "execution_count": 2,
   "metadata": {
    "scrolled": true
   },
   "outputs": [
    {
     "name": "stderr",
     "output_type": "stream",
     "text": [
      "/Users/karanmaheshwari/anaconda3/lib/python3.6/site-packages/h5py/__init__.py:36: FutureWarning: Conversion of the second argument of issubdtype from `float` to `np.floating` is deprecated. In future, it will be treated as `np.float64 == np.dtype(float).type`.\n",
      "  from ._conv import register_converters as _register_converters\n"
     ]
    }
   ],
   "source": [
    "import tensorflow as tf"
   ]
  },
  {
   "cell_type": "code",
   "execution_count": 3,
   "metadata": {},
   "outputs": [],
   "source": [
    "sess = tf.InteractiveSession()"
   ]
  },
  {
   "cell_type": "code",
   "execution_count": 4,
   "metadata": {},
   "outputs": [
    {
     "name": "stdout",
     "output_type": "stream",
     "text": [
      "[[1. 0. 0. 0. 0.]\n",
      " [0. 1. 0. 0. 0.]\n",
      " [0. 0. 1. 0. 0.]\n",
      " [0. 0. 0. 1. 0.]\n",
      " [0. 0. 0. 0. 1.]]\n"
     ]
    }
   ],
   "source": [
    "I_matrix =tf.eye(5)\n",
    "print(I_matrix.eval())"
   ]
  },
  {
   "cell_type": "code",
   "execution_count": 5,
   "metadata": {},
   "outputs": [],
   "source": [
    "X=tf.Variable(tf.eye(10))\n",
    "X.initializer.run()"
   ]
  },
  {
   "cell_type": "code",
   "execution_count": 6,
   "metadata": {},
   "outputs": [
    {
     "data": {
      "text/plain": [
       "array([[1., 0., 0., 0., 0., 0., 0., 0., 0., 0.],\n",
       "       [0., 1., 0., 0., 0., 0., 0., 0., 0., 0.],\n",
       "       [0., 0., 1., 0., 0., 0., 0., 0., 0., 0.],\n",
       "       [0., 0., 0., 1., 0., 0., 0., 0., 0., 0.],\n",
       "       [0., 0., 0., 0., 1., 0., 0., 0., 0., 0.],\n",
       "       [0., 0., 0., 0., 0., 1., 0., 0., 0., 0.],\n",
       "       [0., 0., 0., 0., 0., 0., 1., 0., 0., 0.],\n",
       "       [0., 0., 0., 0., 0., 0., 0., 1., 0., 0.],\n",
       "       [0., 0., 0., 0., 0., 0., 0., 0., 1., 0.],\n",
       "       [0., 0., 0., 0., 0., 0., 0., 0., 0., 1.]], dtype=float32)"
      ]
     },
     "execution_count": 6,
     "metadata": {},
     "output_type": "execute_result"
    }
   ],
   "source": [
    "X.eval()"
   ]
  },
  {
   "cell_type": "code",
   "execution_count": 7,
   "metadata": {},
   "outputs": [],
   "source": [
    "W1 = tf.Variable(tf.random_normal([4,4],mean=2.5,stddev=10.0, seed=12))\n",
    "B1 = tf.Variable(tf.ones([4]))"
   ]
  },
  {
   "cell_type": "code",
   "execution_count": 8,
   "metadata": {},
   "outputs": [],
   "source": [
    "intit = tf.global_variables_initializer()"
   ]
  },
  {
   "cell_type": "code",
   "execution_count": 9,
   "metadata": {},
   "outputs": [
    {
     "name": "stdout",
     "output_type": "stream",
     "text": [
      "[[-1.8663139 10.949775   2.3819015 -6.3440075]\n",
      " [ 0.6472461  4.619517  26.363014  -5.054221 ]\n",
      " [ 6.6372647 14.126977   8.55895    1.1536491]\n",
      " [ 1.1084845  1.8451698 -6.547949   2.510316 ]]\n",
      "[1. 1. 1. 1.]\n",
      "Tensor(\"mul:0\", shape=(4, 4), dtype=float32)\n"
     ]
    }
   ],
   "source": [
    "intit.run()\n",
    "print(W1.eval())\n",
    "print(B1.eval())\n",
    "print(W1*B1.eval())"
   ]
  },
  {
   "cell_type": "code",
   "execution_count": 10,
   "metadata": {},
   "outputs": [],
   "source": [
    "A =tf.Variable(tf.random_normal([5,10]))"
   ]
  },
  {
   "cell_type": "code",
   "execution_count": 11,
   "metadata": {},
   "outputs": [],
   "source": [
    "A.initializer.run()"
   ]
  },
  {
   "cell_type": "code",
   "execution_count": 12,
   "metadata": {},
   "outputs": [
    {
     "data": {
      "text/plain": [
       "array([[-0.33305916, -0.04346011,  0.34583622, -1.7878261 ,  1.3765618 ,\n",
       "         0.6598774 , -0.51443595,  0.8156001 , -1.0925173 , -0.3405846 ],\n",
       "       [-1.3959007 ,  1.1580476 ,  2.5051856 ,  0.23013015, -1.0632336 ,\n",
       "         0.8055649 ,  0.21276431,  0.51828605, -0.459879  ,  2.0298839 ],\n",
       "       [-1.2898765 , -0.28494927,  0.20094453,  1.5996983 , -0.2868907 ,\n",
       "        -1.1390064 , -0.32339016,  0.6880573 , -1.3646164 , -0.283263  ],\n",
       "       [-0.6865399 ,  1.2180402 , -1.0694585 , -2.3435695 ,  0.20580761,\n",
       "        -0.81072366, -0.7565168 ,  1.1713886 ,  0.924242  ,  0.21614133],\n",
       "       [ 1.5273123 ,  0.3430679 , -1.3270774 , -1.4280636 ,  0.4763885 ,\n",
       "         0.8097171 ,  0.06864879, -1.8667903 ,  2.2034676 ,  0.37703896]],\n",
       "      dtype=float32)"
      ]
     },
     "execution_count": 12,
     "metadata": {},
     "output_type": "execute_result"
    }
   ],
   "source": [
    "product = tf.matmul(A,X)\n",
    "product.eval()"
   ]
  },
  {
   "cell_type": "code",
   "execution_count": 13,
   "metadata": {},
   "outputs": [
    {
     "name": "stdout",
     "output_type": "stream",
     "text": [
      "[[1 1 0 0 0 0 0 0 0 1]\n",
      " [1 1 0 0 0 1 1 0 1 1]\n",
      " [0 0 0 0 0 1 1 1 1 1]\n",
      " [1 1 1 0 0 0 0 1 0 0]\n",
      " [1 1 0 1 1 0 1 0 1 0]]\n"
     ]
    }
   ],
   "source": [
    "b = tf.Variable(tf.random_uniform([5,10],0,2,dtype=tf.int32))\n",
    "b.initializer.run()\n",
    "print(b.eval())"
   ]
  },
  {
   "cell_type": "code",
   "execution_count": 15,
   "metadata": {},
   "outputs": [],
   "source": [
    "b_new=tf.cast(b,dtype=tf.float32)"
   ]
  },
  {
   "cell_type": "code",
   "execution_count": 16,
   "metadata": {},
   "outputs": [
    {
     "name": "stdout",
     "output_type": "stream",
     "text": [
      "[[1. 1. 0. 0. 0. 0. 0. 0. 0. 1.]\n",
      " [1. 1. 0. 0. 0. 1. 1. 0. 1. 1.]\n",
      " [0. 0. 0. 0. 0. 1. 1. 1. 1. 1.]\n",
      " [1. 1. 1. 0. 0. 0. 0. 1. 0. 0.]\n",
      " [1. 1. 0. 1. 1. 0. 1. 0. 1. 0.]]\n"
     ]
    }
   ],
   "source": [
    "print(b_new.eval())"
   ]
  },
  {
   "cell_type": "code",
   "execution_count": 18,
   "metadata": {},
   "outputs": [
    {
     "name": "stdout",
     "output_type": "stream",
     "text": [
      "[[ 0.6669408   0.95653987  0.34583622 -1.7878261   1.3765618   0.6598774\n",
      "  -0.51443595  0.8156001  -1.0925173   0.65941536]\n",
      " [-0.39590073  2.1580477   2.5051856   0.23013015 -1.0632336   1.8055649\n",
      "   1.2127643   0.51828605  0.54012096  3.0298839 ]\n",
      " [-1.2898765  -0.28494927  0.20094453  1.5996983  -0.2868907  -0.13900638\n",
      "   0.6766099   1.6880573  -0.3646164   0.71673703]\n",
      " [ 0.3134601   2.2180402  -0.06945848 -2.3435695   0.20580761 -0.81072366\n",
      "  -0.7565168   2.1713886   0.924242    0.21614133]\n",
      " [ 2.5273123   1.3430679  -1.3270774  -0.42806363  1.4763885   0.8097171\n",
      "   1.0686488  -1.8667903   3.2034676   0.37703896]]\n"
     ]
    }
   ],
   "source": [
    "t_sum = tf.add(product, b_new)\n",
    "print(t_sum.eval())"
   ]
  },
  {
   "cell_type": "code",
   "execution_count": 19,
   "metadata": {},
   "outputs": [
    {
     "name": "stdout",
     "output_type": "stream",
     "text": [
      "[[-1.3330592  -1.0434601   0.34583622 -1.7878261   1.3765618   0.6598774\n",
      "  -0.51443595  0.8156001  -1.0925173  -1.3405846 ]\n",
      " [-2.3959007   0.15804756  2.5051856   0.23013015 -1.0632336  -0.19443512\n",
      "  -0.7872357   0.51828605 -1.459879    1.0298839 ]\n",
      " [-1.2898765  -0.28494927  0.20094453  1.5996983  -0.2868907  -2.1390064\n",
      "  -1.3233901  -0.3119427  -2.3646164  -1.283263  ]\n",
      " [-1.6865399   0.21804023 -2.0694585  -2.3435695   0.20580761 -0.81072366\n",
      "  -0.7565168   0.17138863  0.924242    0.21614133]\n",
      " [ 0.5273123  -0.6569321  -1.3270774  -2.4280636  -0.5236115   0.8097171\n",
      "  -0.9313512  -1.8667903   1.2034676   0.37703896]]\n"
     ]
    }
   ],
   "source": [
    "t_sub = (product-b_new)\n",
    "print(t_sub.eval())"
   ]
  },
  {
   "cell_type": "code",
   "execution_count": 20,
   "metadata": {},
   "outputs": [],
   "source": [
    "a = tf.constant([1,2,3,4,5])\n",
    "b = tf.constant([1,2,3,4,5])\n",
    "A = a*b"
   ]
  },
  {
   "cell_type": "code",
   "execution_count": 21,
   "metadata": {},
   "outputs": [
    {
     "data": {
      "text/plain": [
       "array([ 1,  4,  9, 16, 25], dtype=int32)"
      ]
     },
     "execution_count": 21,
     "metadata": {},
     "output_type": "execute_result"
    }
   ],
   "source": [
    "A.eval()"
   ]
  },
  {
   "cell_type": "code",
   "execution_count": 22,
   "metadata": {},
   "outputs": [],
   "source": [
    "B = tf.scalar_mul(2,A)"
   ]
  },
  {
   "cell_type": "code",
   "execution_count": 23,
   "metadata": {},
   "outputs": [
    {
     "data": {
      "text/plain": [
       "array([ 2,  8, 18, 32, 50], dtype=int32)"
      ]
     },
     "execution_count": 23,
     "metadata": {},
     "output_type": "execute_result"
    }
   ],
   "source": [
    "B.eval()"
   ]
  },
  {
   "cell_type": "code",
   "execution_count": 27,
   "metadata": {},
   "outputs": [],
   "source": [
    "C =tf.div(a,b)\n",
    "#use tf.truediv(a,b) for division it casts to float and then do element wise divison"
   ]
  },
  {
   "cell_type": "code",
   "execution_count": 25,
   "metadata": {},
   "outputs": [],
   "source": [
    "D =tf.mod(A,a)"
   ]
  },
  {
   "cell_type": "code",
   "execution_count": 31,
   "metadata": {},
   "outputs": [],
   "source": [
    "with tf.Session() as sess:\n",
    "    writer = tf.summary.FileWriter('graphs', sess.graph)\n",
    "    A1,B1,C1,D1 = sess.run([A,B,C,D])"
   ]
  },
  {
   "cell_type": "code",
   "execution_count": 32,
   "metadata": {},
   "outputs": [
    {
     "ename": "SyntaxError",
     "evalue": "can't assign to operator (<ipython-input-32-06485251f08f>, line 1)",
     "output_type": "error",
     "traceback": [
      "\u001b[0;36m  File \u001b[0;32m\"<ipython-input-32-06485251f08f>\"\u001b[0;36m, line \u001b[0;32m1\u001b[0m\n\u001b[0;31m    tensorboard --logdir=graphs\u001b[0m\n\u001b[0m                               ^\u001b[0m\n\u001b[0;31mSyntaxError\u001b[0m\u001b[0;31m:\u001b[0m can't assign to operator\n"
     ]
    }
   ],
   "source": [
    "tensorboard --logdir=graphs"
   ]
  },
  {
   "cell_type": "code",
   "execution_count": 36,
   "metadata": {},
   "outputs": [],
   "source": [
    "#/Logistic Regression"
   ]
  },
  {
   "cell_type": "code",
   "execution_count": 37,
   "metadata": {},
   "outputs": [],
   "source": [
    "m=1000 #number of samples\n",
    "n=15  #number of features\n",
    "p=2 #number of classes"
   ]
  },
  {
   "cell_type": "code",
   "execution_count": 38,
   "metadata": {},
   "outputs": [],
   "source": [
    "#placeholder for training data"
   ]
  },
  {
   "cell_type": "code",
   "execution_count": null,
   "metadata": {},
   "outputs": [],
   "source": [
    "#Linear Regression"
   ]
  },
  {
   "cell_type": "code",
   "execution_count": 39,
   "metadata": {},
   "outputs": [],
   "source": [
    "X=tf.placeholder(tf.float32,name=\"X\")\n",
    "Y=tf.placeholder(tf.float32,name=\"Y\")"
   ]
  },
  {
   "cell_type": "code",
   "execution_count": 40,
   "metadata": {},
   "outputs": [],
   "source": [
    "w0=tf.Variable(0.0)\n",
    "w1=tf.Variable(0.0)"
   ]
  },
  {
   "cell_type": "code",
   "execution_count": 41,
   "metadata": {},
   "outputs": [],
   "source": [
    "Y_hat = w1*X+w0"
   ]
  },
  {
   "cell_type": "code",
   "execution_count": 42,
   "metadata": {},
   "outputs": [],
   "source": [
    "loss = tf.square(Y-Y_hat)"
   ]
  },
  {
   "cell_type": "code",
   "execution_count": 43,
   "metadata": {},
   "outputs": [],
   "source": [
    "#Multi Linear Regression"
   ]
  },
  {
   "cell_type": "code",
   "execution_count": 45,
   "metadata": {},
   "outputs": [],
   "source": [
    "X=tf.placeholder(tf.float32,name=\"X\",shape=[m,n])\n",
    "Y=tf.placeholder(tf.float32,name=\"Y\")"
   ]
  },
  {
   "cell_type": "code",
   "execution_count": 46,
   "metadata": {},
   "outputs": [],
   "source": [
    "w0=tf.Variable(0.0)\n",
    "w1=tf.Variable(tf.random_normal([n,1]))"
   ]
  },
  {
   "cell_type": "code",
   "execution_count": 47,
   "metadata": {},
   "outputs": [],
   "source": [
    "Y_hat = tf.matmul(X,w1)+w0"
   ]
  },
  {
   "cell_type": "code",
   "execution_count": 48,
   "metadata": {},
   "outputs": [],
   "source": [
    "loss = tf.reduce_mean(tf.square(Y-Y_hat,name=\"loss\"))"
   ]
  },
  {
   "cell_type": "code",
   "execution_count": 49,
   "metadata": {},
   "outputs": [],
   "source": [
    "# for logistic regression"
   ]
  },
  {
   "cell_type": "raw",
   "metadata": {},
   "source": [
    "Batch GD m= M\n",
    "Stochastic GD m=1\n",
    "Mini Batch GD 1<m<M"
   ]
  },
  {
   "cell_type": "raw",
   "metadata": {},
   "source": [
    "tf.train.GradientDescentOptimizer(learning rate)"
   ]
  },
  {
   "cell_type": "code",
   "execution_count": 50,
   "metadata": {},
   "outputs": [],
   "source": [
    "optimizer = tf.train.GradientDescentOptimizer(learning_rate=0.01)"
   ]
  },
  {
   "cell_type": "code",
   "execution_count": 51,
   "metadata": {},
   "outputs": [],
   "source": [
    "train_step = optimizer.minimize(loss)"
   ]
  },
  {
   "cell_type": "code",
   "execution_count": 53,
   "metadata": {},
   "outputs": [
    {
     "ename": "NameError",
     "evalue": "name 'X_data' is not defined",
     "output_type": "error",
     "traceback": [
      "\u001b[0;31m---------------------------------------------------------------------------\u001b[0m",
      "\u001b[0;31mNameError\u001b[0m                                 Traceback (most recent call last)",
      "\u001b[0;32m<ipython-input-53-00ac6db331f6>\u001b[0m in \u001b[0;36m<module>\u001b[0;34m()\u001b[0m\n\u001b[1;32m      1\u001b[0m \u001b[0;32mwith\u001b[0m \u001b[0mtf\u001b[0m\u001b[0;34m.\u001b[0m\u001b[0mSession\u001b[0m\u001b[0;34m(\u001b[0m\u001b[0;34m)\u001b[0m \u001b[0;32mas\u001b[0m \u001b[0msess\u001b[0m\u001b[0;34m:\u001b[0m\u001b[0;34m\u001b[0m\u001b[0m\n\u001b[1;32m      2\u001b[0m     \u001b[0;32mfor\u001b[0m \u001b[0mi\u001b[0m \u001b[0;32min\u001b[0m \u001b[0mrange\u001b[0m\u001b[0;34m(\u001b[0m\u001b[0;36m1000\u001b[0m\u001b[0;34m)\u001b[0m\u001b[0;34m:\u001b[0m\u001b[0;34m\u001b[0m\u001b[0m\n\u001b[0;32m----> 3\u001b[0;31m         \u001b[0msess\u001b[0m\u001b[0;34m.\u001b[0m\u001b[0mrun\u001b[0m\u001b[0;34m(\u001b[0m\u001b[0mtrain_step\u001b[0m\u001b[0;34m,\u001b[0m \u001b[0mfeed_dict\u001b[0m\u001b[0;34m=\u001b[0m\u001b[0;34m{\u001b[0m\u001b[0mX\u001b[0m\u001b[0;34m:\u001b[0m\u001b[0mX_data\u001b[0m\u001b[0;34m,\u001b[0m \u001b[0mY\u001b[0m\u001b[0;34m:\u001b[0m\u001b[0mY_data\u001b[0m\u001b[0;34m}\u001b[0m\u001b[0;34m)\u001b[0m\u001b[0;34m\u001b[0m\u001b[0m\n\u001b[0m",
      "\u001b[0;31mNameError\u001b[0m: name 'X_data' is not defined"
     ]
    }
   ],
   "source": [
    "with tf.Session() as sess:\n",
    "    for i in range(1000):\n",
    "        sess.run(train_step, feed_dict={X:X_data, Y:Y_data})"
   ]
  },
  {
   "cell_type": "raw",
   "metadata": {},
   "source": [
    "#Sample linear regression\n",
    "1) data\n",
    "2) Batch size\n",
    "3) number of features\n",
    "\n",
    "define a function that takes the file and return tensors in batches of size equal to batch size\n",
    "\n",
    "def data_generator(filename):\n",
    "generates tensors in batches of size batch_size\n",
    "args: string tensor\n",
    "filename from which data us to be read\n",
    "\n",
    "returns: tensors\n",
    "feature_batch. and label_batch"
   ]
  },
  {
   "cell_type": "code",
   "execution_count": 1,
   "metadata": {},
   "outputs": [
    {
     "name": "stderr",
     "output_type": "stream",
     "text": [
      "/Users/karanmaheshwari/anaconda3/lib/python3.6/site-packages/h5py/__init__.py:36: FutureWarning: Conversion of the second argument of issubdtype from `float` to `np.floating` is deprecated. In future, it will be treated as `np.float64 == np.dtype(float).type`.\n",
      "  from ._conv import register_converters as _register_converters\n"
     ]
    }
   ],
   "source": [
    "import tensorflow as tf\n",
    "import numpy as np\n",
    "import matplotlib.pyplot as plt"
   ]
  },
  {
   "cell_type": "code",
   "execution_count": 2,
   "metadata": {},
   "outputs": [],
   "source": [
    "def normalize(X):\n",
    "    mean=np.mean(X)\n",
    "    std=np.std(X)\n",
    "    X=(X-mean)/std\n",
    "    return X"
   ]
  },
  {
   "cell_type": "code",
   "execution_count": 3,
   "metadata": {},
   "outputs": [],
   "source": [
    "boston=tf.contrib.learn.datasets.load_dataset('boston')\n",
    "X_train,Y_train=boston.data[:,5],boston.target\n",
    "X_train=normalize(X_train)\n",
    "n_samples=len(X_train)"
   ]
  },
  {
   "cell_type": "code",
   "execution_count": null,
   "metadata": {},
   "outputs": [],
   "source": []
  },
  {
   "cell_type": "code",
   "execution_count": 4,
   "metadata": {},
   "outputs": [],
   "source": [
    "X = tf.placeholder(tf.float32, name=\"X\")\n",
    "Y = tf.placeholder(tf.float32, name=\"Y\")"
   ]
  },
  {
   "cell_type": "code",
   "execution_count": 5,
   "metadata": {},
   "outputs": [],
   "source": [
    "b=tf.Variable(0.0)\n",
    "w=tf.Variable(0.0)"
   ]
  },
  {
   "cell_type": "code",
   "execution_count": 6,
   "metadata": {},
   "outputs": [],
   "source": [
    "Y_hat = X*w + b"
   ]
  },
  {
   "cell_type": "code",
   "execution_count": 7,
   "metadata": {},
   "outputs": [],
   "source": [
    "loss = tf.square(Y-Y_hat, name=\"loss\")"
   ]
  },
  {
   "cell_type": "code",
   "execution_count": 8,
   "metadata": {},
   "outputs": [],
   "source": [
    "optimizer = tf.train.GradientDescentOptimizer(learning_rate=0.01).minimize(loss)"
   ]
  },
  {
   "cell_type": "code",
   "execution_count": 9,
   "metadata": {},
   "outputs": [],
   "source": [
    "init_op = tf.global_variables_initializer()\n",
    "total=[]"
   ]
  },
  {
   "cell_type": "code",
   "execution_count": 19,
   "metadata": {},
   "outputs": [
    {
     "name": "stdout",
     "output_type": "stream",
     "text": [
      "Epoch 0: Loss61.6679900079541\n",
      "Epoch 1: Loss34.238465964702186\n",
      "Epoch 2: Loss34.237623845216135\n",
      "Epoch 3: Loss34.237623861201385\n",
      "Epoch 4: Loss34.237623861201385\n",
      "Epoch 5: Loss34.237623861201385\n",
      "Epoch 6: Loss34.237623861201385\n",
      "Epoch 7: Loss34.237623861201385\n",
      "Epoch 8: Loss34.237623861201385\n",
      "Epoch 9: Loss34.237623861201385\n",
      "Epoch 10: Loss34.237623861201385\n",
      "Epoch 11: Loss34.237623861201385\n",
      "Epoch 12: Loss34.237623861201385\n",
      "Epoch 13: Loss34.237623861201385\n",
      "Epoch 14: Loss34.237623861201385\n",
      "Epoch 15: Loss34.237623861201385\n",
      "Epoch 16: Loss34.237623861201385\n",
      "Epoch 17: Loss34.237623861201385\n",
      "Epoch 18: Loss34.237623861201385\n",
      "Epoch 19: Loss34.237623861201385\n",
      "Epoch 20: Loss34.237623861201385\n",
      "Epoch 21: Loss34.237623861201385\n",
      "Epoch 22: Loss34.237623861201385\n",
      "Epoch 23: Loss34.237623861201385\n",
      "Epoch 24: Loss34.237623861201385\n",
      "Epoch 25: Loss34.237623861201385\n",
      "Epoch 26: Loss34.237623861201385\n",
      "Epoch 27: Loss34.237623861201385\n",
      "Epoch 28: Loss34.237623861201385\n",
      "Epoch 29: Loss34.237623861201385\n",
      "Epoch 30: Loss34.237623861201385\n",
      "Epoch 31: Loss34.237623861201385\n",
      "Epoch 32: Loss34.237623861201385\n",
      "Epoch 33: Loss34.237623861201385\n",
      "Epoch 34: Loss34.237623861201385\n",
      "Epoch 35: Loss34.237623861201385\n",
      "Epoch 36: Loss34.237623861201385\n",
      "Epoch 37: Loss34.237623861201385\n",
      "Epoch 38: Loss34.237623861201385\n",
      "Epoch 39: Loss34.237623861201385\n",
      "Epoch 40: Loss34.237623861201385\n",
      "Epoch 41: Loss34.237623861201385\n",
      "Epoch 42: Loss34.237623861201385\n",
      "Epoch 43: Loss34.237623861201385\n",
      "Epoch 44: Loss34.237623861201385\n",
      "Epoch 45: Loss34.237623861201385\n",
      "Epoch 46: Loss34.237623861201385\n",
      "Epoch 47: Loss34.237623861201385\n",
      "Epoch 48: Loss34.237623861201385\n",
      "Epoch 49: Loss34.237623861201385\n",
      "Epoch 50: Loss34.237623861201385\n",
      "Epoch 51: Loss34.237623861201385\n",
      "Epoch 52: Loss34.237623861201385\n",
      "Epoch 53: Loss34.237623861201385\n",
      "Epoch 54: Loss34.237623861201385\n",
      "Epoch 55: Loss34.237623861201385\n",
      "Epoch 56: Loss34.237623861201385\n",
      "Epoch 57: Loss34.237623861201385\n",
      "Epoch 58: Loss34.237623861201385\n",
      "Epoch 59: Loss34.237623861201385\n",
      "Epoch 60: Loss34.237623861201385\n",
      "Epoch 61: Loss34.237623861201385\n",
      "Epoch 62: Loss34.237623861201385\n",
      "Epoch 63: Loss34.237623861201385\n",
      "Epoch 64: Loss34.237623861201385\n",
      "Epoch 65: Loss34.237623861201385\n",
      "Epoch 66: Loss34.237623861201385\n",
      "Epoch 67: Loss34.237623861201385\n",
      "Epoch 68: Loss34.237623861201385\n",
      "Epoch 69: Loss34.237623861201385\n",
      "Epoch 70: Loss34.237623861201385\n",
      "Epoch 71: Loss34.237623861201385\n",
      "Epoch 72: Loss34.237623861201385\n",
      "Epoch 73: Loss34.237623861201385\n",
      "Epoch 74: Loss34.237623861201385\n",
      "Epoch 75: Loss34.237623861201385\n",
      "Epoch 76: Loss34.237623861201385\n",
      "Epoch 77: Loss34.237623861201385\n",
      "Epoch 78: Loss34.237623861201385\n",
      "Epoch 79: Loss34.237623861201385\n",
      "Epoch 80: Loss34.237623861201385\n",
      "Epoch 81: Loss34.237623861201385\n",
      "Epoch 82: Loss34.237623861201385\n",
      "Epoch 83: Loss34.237623861201385\n",
      "Epoch 84: Loss34.237623861201385\n",
      "Epoch 85: Loss34.237623861201385\n",
      "Epoch 86: Loss34.237623861201385\n",
      "Epoch 87: Loss34.237623861201385\n",
      "Epoch 88: Loss34.237623861201385\n",
      "Epoch 89: Loss34.237623861201385\n",
      "Epoch 90: Loss34.237623861201385\n",
      "Epoch 91: Loss34.237623861201385\n",
      "Epoch 92: Loss34.237623861201385\n",
      "Epoch 93: Loss34.237623861201385\n",
      "Epoch 94: Loss34.237623861201385\n",
      "Epoch 95: Loss34.237623861201385\n",
      "Epoch 96: Loss34.237623861201385\n",
      "Epoch 97: Loss34.237623861201385\n",
      "Epoch 98: Loss34.237623861201385\n",
      "Epoch 99: Loss34.237623861201385\n"
     ]
    }
   ],
   "source": [
    "with tf.Session() as sess:\n",
    "    sess.run(init_op)\n",
    "    writer = tf.summary.FileWriter('graphs',sess.graph)\n",
    "    for i in range(100):\n",
    "        total_loss=0\n",
    "        for x,y in zip(X_train,Y_train):\n",
    "            _, l= sess.run([optimizer,loss], feed_dict={X:x,Y:y})\n",
    "            total_loss += l\n",
    "        total.append(total_loss / n_samples)\n",
    "        print('Epoch {0}: Loss{1}'.format(i, total_loss/n_samples))\n",
    "    writer.close()\n",
    "    b_value, w_value = sess.run([b,w])"
   ]
  },
  {
   "cell_type": "code",
   "execution_count": 20,
   "metadata": {},
   "outputs": [
    {
     "name": "stdout",
     "output_type": "stream",
     "text": [
      "Done\n"
     ]
    }
   ],
   "source": [
    "Y_pred = X_train * w_value + b_value\n",
    "print(\"Done\")"
   ]
  },
  {
   "cell_type": "code",
   "execution_count": 21,
   "metadata": {},
   "outputs": [
    {
     "data": {
      "image/png": "[encoded data removed]",
      "text/plain": [
       "<matplotlib.figure.Figure at 0x1c2728a128>"
      ]
     },
     "metadata": {},
     "output_type": "display_data"
    },
    {
     "data": {
      "image/png": "[encoded data removed]",
      "text/plain": [
       "<matplotlib.figure.Figure at 0x1c27877da0>"
      ]
     },
     "metadata": {},
     "output_type": "display_data"
    }
   ],
   "source": [
    "plt.plot(X_train,Y_train,\"bo\",label=\"Real Data\")\n",
    "plt.plot(X_train,Y_pred,'r',label=\"Predicted Data\")\n",
    "plt.legend()\n",
    "plt.show()\n",
    "plt.plot(total)\n",
    "plt.show()"
   ]
  },
  {
   "cell_type": "code",
   "execution_count": 20,
   "metadata": {},
   "outputs": [],
   "source": [
    "#multiple linear regression\n",
    "import tensorflow as tf\n",
    "import numpy as np\n",
    "import matplotlib.pyplot as plt"
   ]
  },
  {
   "cell_type": "code",
   "execution_count": 21,
   "metadata": {},
   "outputs": [],
   "source": [
    "def normalize(X):\n",
    "    mean=np.mean(X)\n",
    "    std=np.std(X)\n",
    "    X=(X-mean)/std\n",
    "    return X\n",
    "\n",
    "def append_bias_reshape(features,labels):\n",
    "    m=features.shape[0]\n",
    "    n=features.shape[1]\n",
    "    x=np.reshape(np.c_[np.ones(m),features],[m,n+1])\n",
    "    y=np.reshape(labels,[m,1])\n",
    "    return x,y"
   ]
  },
  {
   "cell_type": "code",
   "execution_count": 22,
   "metadata": {},
   "outputs": [],
   "source": [
    "?np.c_"
   ]
  },
  {
   "cell_type": "code",
   "execution_count": 23,
   "metadata": {},
   "outputs": [],
   "source": [
    "boston=tf.contrib.learn.datasets.load_dataset('boston')\n",
    "X_train,Y_train=boston.data,boston.target\n",
    "X_train=normalize(X_train)\n",
    "X_train, Y_train = append_bias_reshape(X_train,Y_train)\n",
    "m=len(X_train)\n",
    "n = 13+1"
   ]
  },
  {
   "cell_type": "code",
   "execution_count": 24,
   "metadata": {},
   "outputs": [],
   "source": [
    "X = tf.placeholder(tf.float32, name=\"X\", shape=[m,n])\n",
    "Y = tf.placeholder(tf.float32, name=\"Y\")"
   ]
  },
  {
   "cell_type": "code",
   "execution_count": 39,
   "metadata": {},
   "outputs": [],
   "source": [
    "w=tf.Variable(tf.random_normal([n,1]))\n",
    "b=tf.Variable(0.0)"
   ]
  },
  {
   "cell_type": "code",
   "execution_count": 40,
   "metadata": {},
   "outputs": [],
   "source": [
    "Y_hat=tf.matmul(X,w)+b"
   ]
  },
  {
   "cell_type": "code",
   "execution_count": 41,
   "metadata": {},
   "outputs": [],
   "source": [
    "loss=tf.reduce_mean(tf.square(Y-Y_hat, name=\"loss\"))"
   ]
  },
  {
   "cell_type": "code",
   "execution_count": 42,
   "metadata": {},
   "outputs": [],
   "source": [
    "optimizer=tf.train.GradientDescentOptimizer(learning_rate=0.01).minimize(loss)"
   ]
  },
  {
   "cell_type": "code",
   "execution_count": 43,
   "metadata": {},
   "outputs": [],
   "source": [
    "init=tf.global_variables_initializer()\n",
    "total=[]"
   ]
  },
  {
   "cell_type": "code",
   "execution_count": 58,
   "metadata": {},
   "outputs": [
    {
     "name": "stdout",
     "output_type": "stream",
     "text": [
      "Epoch 0: Loss691.2597045898438\n",
      "Epoch 1: Loss431.9214172363281\n",
      "Epoch 2: Loss293.26318359375\n",
      "Epoch 3: Loss218.49478149414062\n",
      "Epoch 4: Loss177.58041381835938\n",
      "Epoch 5: Loss154.63307189941406\n",
      "Epoch 6: Loss141.248291015625\n",
      "Epoch 7: Loss132.97853088378906\n",
      "Epoch 8: Loss127.4690933227539\n",
      "Epoch 9: Loss123.47216033935547\n",
      "Epoch 10: Loss120.32530975341797\n",
      "Epoch 11: Loss117.6758804321289\n",
      "Epoch 12: Loss115.33511352539062\n",
      "Epoch 13: Loss113.2010498046875\n",
      "Epoch 14: Loss111.21765899658203\n",
      "Epoch 15: Loss109.3534164428711\n",
      "Epoch 16: Loss107.58975982666016\n",
      "Epoch 17: Loss105.91510772705078\n",
      "Epoch 18: Loss104.32162475585938\n",
      "Epoch 19: Loss102.8035888671875\n",
      "Epoch 20: Loss101.35641479492188\n",
      "Epoch 21: Loss99.97622680664062\n",
      "Epoch 22: Loss98.6595687866211\n",
      "Epoch 23: Loss97.4032974243164\n",
      "Epoch 24: Loss96.20449829101562\n",
      "Epoch 25: Loss95.06040954589844\n",
      "Epoch 26: Loss93.9684066772461\n",
      "Epoch 27: Loss92.92604064941406\n",
      "Epoch 28: Loss91.93097686767578\n",
      "Epoch 29: Loss90.98094940185547\n",
      "Epoch 30: Loss90.0738525390625\n",
      "Epoch 31: Loss89.20764923095703\n",
      "Epoch 32: Loss88.38043212890625\n",
      "Epoch 33: Loss87.59034729003906\n",
      "Epoch 34: Loss86.83563995361328\n",
      "Epoch 35: Loss86.11465454101562\n",
      "Epoch 36: Loss85.42579650878906\n",
      "Epoch 37: Loss84.7675552368164\n",
      "Epoch 38: Loss84.13849639892578\n",
      "Epoch 39: Loss83.5372314453125\n",
      "Epoch 40: Loss82.96244812011719\n",
      "Epoch 41: Loss82.4129409790039\n",
      "Epoch 42: Loss81.88745880126953\n",
      "Epoch 43: Loss81.38492584228516\n",
      "Epoch 44: Loss80.90424346923828\n",
      "Epoch 45: Loss80.44438171386719\n",
      "Epoch 46: Loss80.00435638427734\n",
      "Epoch 47: Loss79.58323669433594\n",
      "Epoch 48: Loss79.1801528930664\n",
      "Epoch 49: Loss78.79424285888672\n",
      "Epoch 50: Loss78.42471313476562\n",
      "Epoch 51: Loss78.07076263427734\n",
      "Epoch 52: Loss77.7317123413086\n",
      "Epoch 53: Loss77.40682983398438\n",
      "Epoch 54: Loss77.095458984375\n",
      "Epoch 55: Loss76.79695129394531\n",
      "Epoch 56: Loss76.51075744628906\n",
      "Epoch 57: Loss76.2362289428711\n",
      "Epoch 58: Loss75.97286224365234\n",
      "Epoch 59: Loss75.72013854980469\n",
      "Epoch 60: Loss75.47754669189453\n",
      "Epoch 61: Loss75.24462127685547\n",
      "Epoch 62: Loss75.02091979980469\n",
      "Epoch 63: Loss74.80599212646484\n",
      "Epoch 64: Loss74.59944152832031\n",
      "Epoch 65: Loss74.40087890625\n",
      "Epoch 66: Loss74.20990753173828\n",
      "Epoch 67: Loss74.02622985839844\n",
      "Epoch 68: Loss73.84945678710938\n",
      "Epoch 69: Loss73.67929077148438\n",
      "Epoch 70: Loss73.51541137695312\n",
      "Epoch 71: Loss73.35755157470703\n",
      "Epoch 72: Loss73.20539855957031\n",
      "Epoch 73: Loss73.05872344970703\n",
      "Epoch 74: Loss72.91725158691406\n",
      "Epoch 75: Loss72.78074645996094\n",
      "Epoch 76: Loss72.64900207519531\n",
      "Epoch 77: Loss72.52174377441406\n",
      "Epoch 78: Loss72.39884185791016\n",
      "Epoch 79: Loss72.28002166748047\n",
      "Epoch 80: Loss72.16514587402344\n",
      "Epoch 81: Loss72.05402374267578\n",
      "Epoch 82: Loss71.94647216796875\n",
      "Epoch 83: Loss71.84232330322266\n",
      "Epoch 84: Loss71.74144744873047\n",
      "Epoch 85: Loss71.64368438720703\n",
      "Epoch 86: Loss71.54888153076172\n",
      "Epoch 87: Loss71.45691680908203\n",
      "Epoch 88: Loss71.36766815185547\n",
      "Epoch 89: Loss71.2809829711914\n",
      "Epoch 90: Loss71.19676971435547\n",
      "Epoch 91: Loss71.11492156982422\n",
      "Epoch 92: Loss71.03532409667969\n",
      "Epoch 93: Loss70.95787048339844\n",
      "Epoch 94: Loss70.88247680664062\n",
      "Epoch 95: Loss70.8090591430664\n",
      "Epoch 96: Loss70.73750305175781\n",
      "Epoch 97: Loss70.66775512695312\n",
      "Epoch 98: Loss70.59969329833984\n",
      "Epoch 99: Loss70.53327941894531\n"
     ]
    }
   ],
   "source": [
    "with tf.Session() as sess:\n",
    "    sess.run(init)\n",
    "    for i in range(100):\n",
    "        _,l = sess.run([optimizer,loss],feed_dict={X:X_train, Y:Y_train})\n",
    "        total.append(l)\n",
    "        print('Epoch {0}: Loss{1}'.format(i,l))\n",
    "    w_value,b_value=sess.run([w,b])"
   ]
  },
  {
   "cell_type": "code",
   "execution_count": 45,
   "metadata": {},
   "outputs": [
    {
     "data": {
      "image/png": "[encoded data removed]",
      "text/plain": [
       "<matplotlib.figure.Figure at 0x1c2e1b50f0>"
      ]
     },
     "metadata": {},
     "output_type": "display_data"
    }
   ],
   "source": [
    "plt.plot(total)\n",
    "plt.show()"
   ]
  },
  {
   "cell_type": "code",
   "execution_count": 46,
   "metadata": {},
   "outputs": [
    {
     "data": {
      "text/plain": [
       "(506, 14)"
      ]
     },
     "execution_count": 46,
     "metadata": {},
     "output_type": "execute_result"
    }
   ],
   "source": [
    "X_train.shape"
   ]
  },
  {
   "cell_type": "code",
   "execution_count": 47,
   "metadata": {},
   "outputs": [
    {
     "data": {
      "text/plain": [
       "(506, 1)"
      ]
     },
     "execution_count": 47,
     "metadata": {},
     "output_type": "execute_result"
    }
   ],
   "source": [
    "Y_train.shape"
   ]
  },
  {
   "cell_type": "code",
   "execution_count": 48,
   "metadata": {},
   "outputs": [
    {
     "data": {
      "text/plain": [
       "TensorShape([Dimension(506), Dimension(1)])"
      ]
     },
     "execution_count": 48,
     "metadata": {},
     "output_type": "execute_result"
    }
   ],
   "source": [
    "Y_hat.shape"
   ]
  },
  {
   "cell_type": "code",
   "execution_count": 50,
   "metadata": {},
   "outputs": [
    {
     "data": {
      "text/plain": [
       "(14, 1)"
      ]
     },
     "execution_count": 50,
     "metadata": {},
     "output_type": "execute_result"
    }
   ],
   "source": [
    "w_value.shape"
   ]
  },
  {
   "cell_type": "code",
   "execution_count": 60,
   "metadata": {},
   "outputs": [
    {
     "name": "stdout",
     "output_type": "stream",
     "text": [
      "Predicted value: $24000.0 Actual value: / $[16800.]\n"
     ]
    }
   ],
   "source": [
    "N=500\n",
    "X_new=X_train[N,:]\n",
    "Y_pred= (np.matmul(X_new,w_value)+b_value).round(1)\n",
    "print(\"Predicted value: ${0} Actual value: / ${1}\".format(Y_pred[0]*1000,Y_train[N]*1000))"
   ]
  },
  {
   "cell_type": "code",
   "execution_count": 1,
   "metadata": {},
   "outputs": [
    {
     "name": "stderr",
     "output_type": "stream",
     "text": [
      "/Users/karanmaheshwari/anaconda3/lib/python3.6/site-packages/h5py/__init__.py:36: FutureWarning: Conversion of the second argument of issubdtype from `float` to `np.floating` is deprecated. In future, it will be treated as `np.float64 == np.dtype(float).type`.\n",
      "  from ._conv import register_converters as _register_converters\n"
     ]
    }
   ],
   "source": [
    "#Logistic Regression\n",
    "import tensorflow as tf\n",
    "import matplotlib.pyplot as plt, matplotlib.image as mpimg"
   ]
  },
  {
   "cell_type": "code",
   "execution_count": 2,
   "metadata": {},
   "outputs": [],
   "source": [
    "from tensorflow.examples.tutorials.mnist import input_data"
   ]
  },
  {
   "cell_type": "code",
   "execution_count": 3,
   "metadata": {},
   "outputs": [
    {
     "name": "stdout",
     "output_type": "stream",
     "text": [
      "Extracting MNIST_data/train-images-idx3-ubyte.gz\n",
      "Extracting MNIST_data/train-labels-idx1-ubyte.gz\n",
      "Extracting MNIST_data/t10k-images-idx3-ubyte.gz\n",
      "Extracting MNIST_data/t10k-labels-idx1-ubyte.gz\n"
     ]
    }
   ],
   "source": [
    "mnist = input_data.read_data_sets(\"MNIST_data/\", one_hot=True)"
   ]
  },
  {
   "cell_type": "code",
   "execution_count": 4,
   "metadata": {},
   "outputs": [],
   "source": [
    "x=tf.placeholder(tf.float32, [None,784],name=\"X\")\n",
    "y=tf.placeholder(tf.float32, [None, 10],name=\"Y\")"
   ]
  },
  {
   "cell_type": "code",
   "execution_count": 5,
   "metadata": {},
   "outputs": [],
   "source": [
    "w = tf.Variable(tf.zeros([784,10]), name=\"w\")\n",
    "b = tf.Variable(tf.zeros([10]),name=\"b\")"
   ]
  },
  {
   "cell_type": "code",
   "execution_count": 6,
   "metadata": {},
   "outputs": [],
   "source": [
    "with tf.name_scope(\"wx_b\") as scope:\n",
    "    y_hat = tf.nn.softmax(tf.matmul(x,w)+b)"
   ]
  },
  {
   "cell_type": "code",
   "execution_count": 7,
   "metadata": {},
   "outputs": [],
   "source": [
    "w_h = tf.summary.histogram(\"weights\",w)\n",
    "b_h = tf.summary.histogram(\"biases\", b)"
   ]
  },
  {
   "cell_type": "code",
   "execution_count": 8,
   "metadata": {},
   "outputs": [
    {
     "name": "stdout",
     "output_type": "stream",
     "text": [
      "WARNING:tensorflow:From <ipython-input-8-8360d2f06c2e>:2: softmax_cross_entropy_with_logits (from tensorflow.python.ops.nn_ops) is deprecated and will be removed in a future version.\n",
      "Instructions for updating:\n",
      "\n",
      "Future major versions of TensorFlow will allow gradients to flow\n",
      "into the labels input on backprop by default.\n",
      "\n",
      "See tf.nn.softmax_cross_entropy_with_logits_v2.\n",
      "\n"
     ]
    }
   ],
   "source": [
    "with tf.name_scope(\"cross-entropy\") as scope:\n",
    "    loss =tf.reduce_mean(tf.nn.softmax_cross_entropy_with_logits(labels=y,logits=y_hat))"
   ]
  },
  {
   "cell_type": "code",
   "execution_count": 9,
   "metadata": {},
   "outputs": [
    {
     "data": {
      "text/plain": [
       "<tf.Tensor 'cross-entropy_1:0' shape=() dtype=string>"
      ]
     },
     "execution_count": 9,
     "metadata": {},
     "output_type": "execute_result"
    }
   ],
   "source": [
    "tf.summary.scalar('cross-entropy',loss)"
   ]
  },
  {
   "cell_type": "code",
   "execution_count": 10,
   "metadata": {},
   "outputs": [],
   "source": [
    "with tf.name_scope('Train') as scope:\n",
    "    optimizer = tf.train.GradientDescentOptimizer(0.01).minimize(loss)"
   ]
  },
  {
   "cell_type": "code",
   "execution_count": 11,
   "metadata": {},
   "outputs": [],
   "source": [
    "init=tf.global_variables_initializer()"
   ]
  },
  {
   "cell_type": "code",
   "execution_count": 12,
   "metadata": {},
   "outputs": [],
   "source": [
    "merge_summary_op=tf.summary.merge_all()\n",
    "accuracy = tf.metrics.accuracy(labels=y,predictions=y_hat)"
   ]
  },
  {
   "cell_type": "code",
   "execution_count": 13,
   "metadata": {},
   "outputs": [
    {
     "name": "stdout",
     "output_type": "stream",
     "text": [
      "Epoch0: Loss2.2827992049130525\n",
      "Epoch1: Loss2.218403308174827\n",
      "Epoch2: Loss2.1337892376292835\n",
      "Epoch3: Loss2.047806246063926\n",
      "Epoch4: Loss1.9843679159337824\n",
      "Epoch5: Loss1.938218035697937\n",
      "Epoch6: Loss1.8979695346138694\n",
      "Epoch7: Loss1.8687985082106158\n",
      "Epoch8: Loss1.8451995234055953\n",
      "Epoch9: Loss1.8227244247089733\n",
      "Epoch10: Loss1.808756813136014\n",
      "Epoch11: Loss1.7949836878343062\n",
      "Epoch12: Loss1.7821109988472679\n",
      "Epoch13: Loss1.77742995002053\n",
      "Epoch14: Loss1.7636528379266911\n",
      "Epoch15: Loss1.7634407598322088\n",
      "Epoch16: Loss1.7540982402454723\n",
      "Epoch17: Loss1.7479807160117409\n",
      "Epoch18: Loss1.7459432116421787\n",
      "Epoch19: Loss1.736185377294367\n",
      "Epoch20: Loss1.7327788179570978\n",
      "Epoch21: Loss1.7329659709063443\n",
      "Epoch22: Loss1.7264253369244662\n",
      "Epoch23: Loss1.7255715058066627\n",
      "Epoch24: Loss1.7200438486446035\n",
      "Epoch25: Loss1.7202400979128751\n",
      "Epoch26: Loss1.7133382762562146\n",
      "Epoch27: Loss1.7167962910912253\n",
      "Epoch28: Loss1.7094988081671976\n",
      "Epoch29: Loss1.711736778345975\n",
      "Epoch30: Loss1.7067368750138716\n",
      "Epoch31: Loss1.706577389457009\n",
      "Epoch32: Loss1.7049573304436423\n",
      "Epoch33: Loss1.7012755619395863\n",
      "Epoch34: Loss1.6990242875706065\n",
      "Epoch35: Loss1.70082434090701\n",
      "Epoch36: Loss1.6976168376749212\n",
      "Epoch37: Loss1.696396686814048\n",
      "Epoch38: Loss1.6938437561555342\n",
      "Epoch39: Loss1.6948064175519075\n",
      "Epoch40: Loss1.690842463319952\n",
      "Epoch41: Loss1.6928401812640104\n",
      "Epoch42: Loss1.6882643183794888\n",
      "Epoch43: Loss1.6907644701004028\n",
      "Epoch44: Loss1.6850043786655773\n",
      "Epoch45: Loss1.6895895238356158\n",
      "Epoch46: Loss1.6872629031268034\n",
      "Epoch47: Loss1.6829739210822365\n",
      "Epoch48: Loss1.6812974960153753\n",
      "Epoch49: Loss1.6844299810582941\n",
      "Epoch50: Loss1.6807091015035456\n",
      "Epoch51: Loss1.6796585117686877\n",
      "Epoch52: Loss1.677705958106301\n",
      "Epoch53: Loss1.674399718804793\n",
      "Epoch54: Loss1.669939214966514\n",
      "Epoch55: Loss1.668685861934315\n",
      "Epoch56: Loss1.6645990623127331\n",
      "Epoch57: Loss1.66130774454637\n",
      "Epoch58: Loss1.6585572918978604\n",
      "Epoch59: Loss1.657735148343173\n",
      "Epoch60: Loss1.6556298312273892\n",
      "Epoch61: Loss1.6518407405506481\n",
      "Epoch62: Loss1.6483612129905008\n",
      "Epoch63: Loss1.6506900731000034\n",
      "Epoch64: Loss1.6471576092459939\n",
      "Epoch65: Loss1.6438905594565651\n",
      "Epoch66: Loss1.641941789713773\n",
      "Epoch67: Loss1.641601020639593\n",
      "Epoch68: Loss1.6395541568235918\n",
      "Epoch69: Loss1.637064694924788\n",
      "Epoch70: Loss1.6339580795981667\n",
      "Epoch71: Loss1.636395101547241\n",
      "Epoch72: Loss1.6327439256147904\n",
      "Epoch73: Loss1.6320085889642888\n",
      "Epoch74: Loss1.6313896053487604\n",
      "Epoch75: Loss1.6283691688017412\n",
      "Epoch76: Loss1.6271276712417602\n",
      "Epoch77: Loss1.6281774048371749\n",
      "Epoch78: Loss1.6253487812389027\n",
      "Epoch79: Loss1.6259411352330988\n",
      "Epoch80: Loss1.6235735741528599\n",
      "Epoch81: Loss1.624071948745034\n",
      "Epoch82: Loss1.6233259378780018\n",
      "Epoch83: Loss1.620975738438693\n",
      "Epoch84: Loss1.6202458537708628\n",
      "Epoch85: Loss1.6209660126946188\n",
      "Epoch86: Loss1.6191228142651644\n",
      "Epoch87: Loss1.6192194695906206\n",
      "Epoch88: Loss1.616245866688815\n",
      "Epoch89: Loss1.619396851713007\n",
      "Epoch90: Loss1.615390846079046\n",
      "Epoch91: Loss1.6177135905352507\n",
      "Epoch92: Loss1.6150656574422664\n",
      "Epoch93: Loss1.61563579862768\n",
      "Epoch94: Loss1.6159834241867066\n",
      "Epoch95: Loss1.6124508129466664\n",
      "Epoch96: Loss1.6150871289860118\n",
      "Epoch97: Loss1.6111786838011308\n",
      "Epoch98: Loss1.6125558111884377\n",
      "Epoch99: Loss1.6116384879025547\n",
      "Done\n"
     ]
    },
    {
     "ename": "InvalidArgumentError",
     "evalue": "You must feed a value for placeholder tensor 'Y' with dtype float and shape [?,10]\n\t [[Node: Y = Placeholder[dtype=DT_FLOAT, shape=[?,10], _device=\"/job:localhost/replica:0/task:0/device:CPU:0\"]()]]\n\nCaused by op 'Y', defined at:\n  File \"/Users/karanmaheshwari/anaconda3/lib/python3.6/runpy.py\", line 193, in _run_module_as_main\n    \"__main__\", mod_spec)\n  File \"/Users/karanmaheshwari/anaconda3/lib/python3.6/runpy.py\", line 85, in _run_code\n    exec(code, run_globals)\n  File \"/Users/karanmaheshwari/anaconda3/lib/python3.6/site-packages/ipykernel_launcher.py\", line 16, in <module>\n    app.launch_new_instance()\n  File \"/Users/karanmaheshwari/anaconda3/lib/python3.6/site-packages/traitlets/config/application.py\", line 658, in launch_instance\n    app.start()\n  File \"/Users/karanmaheshwari/anaconda3/lib/python3.6/site-packages/ipykernel/kernelapp.py\", line 478, in start\n    self.io_loop.start()\n  File \"/Users/karanmaheshwari/anaconda3/lib/python3.6/site-packages/zmq/eventloop/ioloop.py\", line 177, in start\n    super(ZMQIOLoop, self).start()\n  File \"/Users/karanmaheshwari/anaconda3/lib/python3.6/site-packages/tornado/ioloop.py\", line 888, in start\n    handler_func(fd_obj, events)\n  File \"/Users/karanmaheshwari/anaconda3/lib/python3.6/site-packages/tornado/stack_context.py\", line 277, in null_wrapper\n    return fn(*args, **kwargs)\n  File \"/Users/karanmaheshwari/anaconda3/lib/python3.6/site-packages/zmq/eventloop/zmqstream.py\", line 440, in _handle_events\n    self._handle_recv()\n  File \"/Users/karanmaheshwari/anaconda3/lib/python3.6/site-packages/zmq/eventloop/zmqstream.py\", line 472, in _handle_recv\n    self._run_callback(callback, msg)\n  File \"/Users/karanmaheshwari/anaconda3/lib/python3.6/site-packages/zmq/eventloop/zmqstream.py\", line 414, in _run_callback\n    callback(*args, **kwargs)\n  File \"/Users/karanmaheshwari/anaconda3/lib/python3.6/site-packages/tornado/stack_context.py\", line 277, in null_wrapper\n    return fn(*args, **kwargs)\n  File \"/Users/karanmaheshwari/anaconda3/lib/python3.6/site-packages/ipykernel/kernelbase.py\", line 283, in dispatcher\n    return self.dispatch_shell(stream, msg)\n  File \"/Users/karanmaheshwari/anaconda3/lib/python3.6/site-packages/ipykernel/kernelbase.py\", line 233, in dispatch_shell\n    handler(stream, idents, msg)\n  File \"/Users/karanmaheshwari/anaconda3/lib/python3.6/site-packages/ipykernel/kernelbase.py\", line 399, in execute_request\n    user_expressions, allow_stdin)\n  File \"/Users/karanmaheshwari/anaconda3/lib/python3.6/site-packages/ipykernel/ipkernel.py\", line 208, in do_execute\n    res = shell.run_cell(code, store_history=store_history, silent=silent)\n  File \"/Users/karanmaheshwari/anaconda3/lib/python3.6/site-packages/ipykernel/zmqshell.py\", line 537, in run_cell\n    return super(ZMQInteractiveShell, self).run_cell(*args, **kwargs)\n  File \"/Users/karanmaheshwari/anaconda3/lib/python3.6/site-packages/IPython/core/interactiveshell.py\", line 2728, in run_cell\n    interactivity=interactivity, compiler=compiler, result=result)\n  File \"/Users/karanmaheshwari/anaconda3/lib/python3.6/site-packages/IPython/core/interactiveshell.py\", line 2850, in run_ast_nodes\n    if self.run_code(code, result):\n  File \"/Users/karanmaheshwari/anaconda3/lib/python3.6/site-packages/IPython/core/interactiveshell.py\", line 2910, in run_code\n    exec(code_obj, self.user_global_ns, self.user_ns)\n  File \"<ipython-input-4-59111956d261>\", line 2, in <module>\n    y=tf.placeholder(tf.float32, [None, 10],name=\"Y\")\n  File \"/Users/karanmaheshwari/anaconda3/lib/python3.6/site-packages/tensorflow/python/ops/array_ops.py\", line 1746, in placeholder\n    return gen_array_ops._placeholder(dtype=dtype, shape=shape, name=name)\n  File \"/Users/karanmaheshwari/anaconda3/lib/python3.6/site-packages/tensorflow/python/ops/gen_array_ops.py\", line 3051, in _placeholder\n    \"Placeholder\", dtype=dtype, shape=shape, name=name)\n  File \"/Users/karanmaheshwari/anaconda3/lib/python3.6/site-packages/tensorflow/python/framework/op_def_library.py\", line 787, in _apply_op_helper\n    op_def=op_def)\n  File \"/Users/karanmaheshwari/anaconda3/lib/python3.6/site-packages/tensorflow/python/framework/ops.py\", line 3271, in create_op\n    op_def=op_def)\n  File \"/Users/karanmaheshwari/anaconda3/lib/python3.6/site-packages/tensorflow/python/framework/ops.py\", line 1650, in __init__\n    self._traceback = self._graph._extract_stack()  # pylint: disable=protected-access\n\nInvalidArgumentError (see above for traceback): You must feed a value for placeholder tensor 'Y' with dtype float and shape [?,10]\n\t [[Node: Y = Placeholder[dtype=DT_FLOAT, shape=[?,10], _device=\"/job:localhost/replica:0/task:0/device:CPU:0\"]()]]\n",
     "output_type": "error",
     "traceback": [
      "\u001b[0;31m---------------------------------------------------------------------------\u001b[0m",
      "\u001b[0;31mInvalidArgumentError\u001b[0m                      Traceback (most recent call last)",
      "\u001b[0;32m~/anaconda3/lib/python3.6/site-packages/tensorflow/python/client/session.py\u001b[0m in \u001b[0;36m_do_call\u001b[0;34m(self, fn, *args)\u001b[0m\n\u001b[1;32m   1360\u001b[0m     \u001b[0;32mtry\u001b[0m\u001b[0;34m:\u001b[0m\u001b[0;34m\u001b[0m\u001b[0m\n\u001b[0;32m-> 1361\u001b[0;31m       \u001b[0;32mreturn\u001b[0m \u001b[0mfn\u001b[0m\u001b[0;34m(\u001b[0m\u001b[0;34m*\u001b[0m\u001b[0margs\u001b[0m\u001b[0;34m)\u001b[0m\u001b[0;34m\u001b[0m\u001b[0m\n\u001b[0m\u001b[1;32m   1362\u001b[0m     \u001b[0;32mexcept\u001b[0m \u001b[0merrors\u001b[0m\u001b[0;34m.\u001b[0m\u001b[0mOpError\u001b[0m \u001b[0;32mas\u001b[0m \u001b[0me\u001b[0m\u001b[0;34m:\u001b[0m\u001b[0;34m\u001b[0m\u001b[0m\n",
      "\u001b[0;32m~/anaconda3/lib/python3.6/site-packages/tensorflow/python/client/session.py\u001b[0m in \u001b[0;36m_run_fn\u001b[0;34m(session, feed_dict, fetch_list, target_list, options, run_metadata)\u001b[0m\n\u001b[1;32m   1339\u001b[0m           return tf_session.TF_Run(session, options, feed_dict, fetch_list,\n\u001b[0;32m-> 1340\u001b[0;31m                                    target_list, status, run_metadata)\n\u001b[0m\u001b[1;32m   1341\u001b[0m \u001b[0;34m\u001b[0m\u001b[0m\n",
      "\u001b[0;32m~/anaconda3/lib/python3.6/site-packages/tensorflow/python/framework/errors_impl.py\u001b[0m in \u001b[0;36m__exit__\u001b[0;34m(self, type_arg, value_arg, traceback_arg)\u001b[0m\n\u001b[1;32m    515\u001b[0m             \u001b[0mcompat\u001b[0m\u001b[0;34m.\u001b[0m\u001b[0mas_text\u001b[0m\u001b[0;34m(\u001b[0m\u001b[0mc_api\u001b[0m\u001b[0;34m.\u001b[0m\u001b[0mTF_Message\u001b[0m\u001b[0;34m(\u001b[0m\u001b[0mself\u001b[0m\u001b[0;34m.\u001b[0m\u001b[0mstatus\u001b[0m\u001b[0;34m.\u001b[0m\u001b[0mstatus\u001b[0m\u001b[0;34m)\u001b[0m\u001b[0;34m)\u001b[0m\u001b[0;34m,\u001b[0m\u001b[0;34m\u001b[0m\u001b[0m\n\u001b[0;32m--> 516\u001b[0;31m             c_api.TF_GetCode(self.status.status))\n\u001b[0m\u001b[1;32m    517\u001b[0m     \u001b[0;31m# Delete the underlying status object from memory otherwise it stays alive\u001b[0m\u001b[0;34m\u001b[0m\u001b[0;34m\u001b[0m\u001b[0m\n",
      "\u001b[0;31mInvalidArgumentError\u001b[0m: You must feed a value for placeholder tensor 'Y' with dtype float and shape [?,10]\n\t [[Node: Y = Placeholder[dtype=DT_FLOAT, shape=[?,10], _device=\"/job:localhost/replica:0/task:0/device:CPU:0\"]()]]",
      "\nDuring handling of the above exception, another exception occurred:\n",
      "\u001b[0;31mInvalidArgumentError\u001b[0m                      Traceback (most recent call last)",
      "\u001b[0;32m<ipython-input-13-136ec7097c20>\u001b[0m in \u001b[0;36m<module>\u001b[0;34m()\u001b[0m\n\u001b[1;32m     12\u001b[0m         \u001b[0mprint\u001b[0m\u001b[0;34m(\u001b[0m\u001b[0;34m\"Epoch{0}: Loss{1}\"\u001b[0m\u001b[0;34m.\u001b[0m\u001b[0mformat\u001b[0m\u001b[0;34m(\u001b[0m\u001b[0mepoch\u001b[0m\u001b[0;34m,\u001b[0m \u001b[0mloss_avg\u001b[0m\u001b[0;34m)\u001b[0m\u001b[0;34m)\u001b[0m\u001b[0;34m\u001b[0m\u001b[0m\n\u001b[1;32m     13\u001b[0m     \u001b[0mprint\u001b[0m\u001b[0;34m(\u001b[0m\u001b[0;34m\"Done\"\u001b[0m\u001b[0;34m)\u001b[0m\u001b[0;34m\u001b[0m\u001b[0m\n\u001b[0;32m---> 14\u001b[0;31m     \u001b[0mprint\u001b[0m\u001b[0;34m(\u001b[0m\u001b[0msess\u001b[0m\u001b[0;34m.\u001b[0m\u001b[0mrun\u001b[0m\u001b[0;34m(\u001b[0m\u001b[0maccuracy\u001b[0m\u001b[0;34m)\u001b[0m\u001b[0;34m,\u001b[0m\u001b[0mfeed_dict\u001b[0m\u001b[0;34m=\u001b[0m\u001b[0;34m{\u001b[0m\u001b[0mx\u001b[0m\u001b[0;34m:\u001b[0m\u001b[0mmnist\u001b[0m\u001b[0;34m.\u001b[0m\u001b[0mtest\u001b[0m\u001b[0;34m.\u001b[0m\u001b[0mimages\u001b[0m\u001b[0;34m,\u001b[0m\u001b[0my\u001b[0m\u001b[0;34m:\u001b[0m\u001b[0mmnist\u001b[0m\u001b[0;34m.\u001b[0m\u001b[0mtest\u001b[0m\u001b[0;34m.\u001b[0m\u001b[0mlabels\u001b[0m\u001b[0;34m}\u001b[0m\u001b[0;34m)\u001b[0m\u001b[0;34m\u001b[0m\u001b[0m\n\u001b[0m",
      "\u001b[0;32m~/anaconda3/lib/python3.6/site-packages/tensorflow/python/client/session.py\u001b[0m in \u001b[0;36mrun\u001b[0;34m(self, fetches, feed_dict, options, run_metadata)\u001b[0m\n\u001b[1;32m    903\u001b[0m     \u001b[0;32mtry\u001b[0m\u001b[0;34m:\u001b[0m\u001b[0;34m\u001b[0m\u001b[0m\n\u001b[1;32m    904\u001b[0m       result = self._run(None, fetches, feed_dict, options_ptr,\n\u001b[0;32m--> 905\u001b[0;31m                          run_metadata_ptr)\n\u001b[0m\u001b[1;32m    906\u001b[0m       \u001b[0;32mif\u001b[0m \u001b[0mrun_metadata\u001b[0m\u001b[0;34m:\u001b[0m\u001b[0;34m\u001b[0m\u001b[0m\n\u001b[1;32m    907\u001b[0m         \u001b[0mproto_data\u001b[0m \u001b[0;34m=\u001b[0m \u001b[0mtf_session\u001b[0m\u001b[0;34m.\u001b[0m\u001b[0mTF_GetBuffer\u001b[0m\u001b[0;34m(\u001b[0m\u001b[0mrun_metadata_ptr\u001b[0m\u001b[0;34m)\u001b[0m\u001b[0;34m\u001b[0m\u001b[0m\n",
      "\u001b[0;32m~/anaconda3/lib/python3.6/site-packages/tensorflow/python/client/session.py\u001b[0m in \u001b[0;36m_run\u001b[0;34m(self, handle, fetches, feed_dict, options, run_metadata)\u001b[0m\n\u001b[1;32m   1135\u001b[0m     \u001b[0;32mif\u001b[0m \u001b[0mfinal_fetches\u001b[0m \u001b[0;32mor\u001b[0m \u001b[0mfinal_targets\u001b[0m \u001b[0;32mor\u001b[0m \u001b[0;34m(\u001b[0m\u001b[0mhandle\u001b[0m \u001b[0;32mand\u001b[0m \u001b[0mfeed_dict_tensor\u001b[0m\u001b[0;34m)\u001b[0m\u001b[0;34m:\u001b[0m\u001b[0;34m\u001b[0m\u001b[0m\n\u001b[1;32m   1136\u001b[0m       results = self._do_run(handle, final_targets, final_fetches,\n\u001b[0;32m-> 1137\u001b[0;31m                              feed_dict_tensor, options, run_metadata)\n\u001b[0m\u001b[1;32m   1138\u001b[0m     \u001b[0;32melse\u001b[0m\u001b[0;34m:\u001b[0m\u001b[0;34m\u001b[0m\u001b[0m\n\u001b[1;32m   1139\u001b[0m       \u001b[0mresults\u001b[0m \u001b[0;34m=\u001b[0m \u001b[0;34m[\u001b[0m\u001b[0;34m]\u001b[0m\u001b[0;34m\u001b[0m\u001b[0m\n",
      "\u001b[0;32m~/anaconda3/lib/python3.6/site-packages/tensorflow/python/client/session.py\u001b[0m in \u001b[0;36m_do_run\u001b[0;34m(self, handle, target_list, fetch_list, feed_dict, options, run_metadata)\u001b[0m\n\u001b[1;32m   1353\u001b[0m     \u001b[0;32mif\u001b[0m \u001b[0mhandle\u001b[0m \u001b[0;32mis\u001b[0m \u001b[0;32mNone\u001b[0m\u001b[0;34m:\u001b[0m\u001b[0;34m\u001b[0m\u001b[0m\n\u001b[1;32m   1354\u001b[0m       return self._do_call(_run_fn, self._session, feeds, fetches, targets,\n\u001b[0;32m-> 1355\u001b[0;31m                            options, run_metadata)\n\u001b[0m\u001b[1;32m   1356\u001b[0m     \u001b[0;32melse\u001b[0m\u001b[0;34m:\u001b[0m\u001b[0;34m\u001b[0m\u001b[0m\n\u001b[1;32m   1357\u001b[0m       \u001b[0;32mreturn\u001b[0m \u001b[0mself\u001b[0m\u001b[0;34m.\u001b[0m\u001b[0m_do_call\u001b[0m\u001b[0;34m(\u001b[0m\u001b[0m_prun_fn\u001b[0m\u001b[0;34m,\u001b[0m \u001b[0mself\u001b[0m\u001b[0;34m.\u001b[0m\u001b[0m_session\u001b[0m\u001b[0;34m,\u001b[0m \u001b[0mhandle\u001b[0m\u001b[0;34m,\u001b[0m \u001b[0mfeeds\u001b[0m\u001b[0;34m,\u001b[0m \u001b[0mfetches\u001b[0m\u001b[0;34m)\u001b[0m\u001b[0;34m\u001b[0m\u001b[0m\n",
      "\u001b[0;32m~/anaconda3/lib/python3.6/site-packages/tensorflow/python/client/session.py\u001b[0m in \u001b[0;36m_do_call\u001b[0;34m(self, fn, *args)\u001b[0m\n\u001b[1;32m   1372\u001b[0m         \u001b[0;32mexcept\u001b[0m \u001b[0mKeyError\u001b[0m\u001b[0;34m:\u001b[0m\u001b[0;34m\u001b[0m\u001b[0m\n\u001b[1;32m   1373\u001b[0m           \u001b[0;32mpass\u001b[0m\u001b[0;34m\u001b[0m\u001b[0m\n\u001b[0;32m-> 1374\u001b[0;31m       \u001b[0;32mraise\u001b[0m \u001b[0mtype\u001b[0m\u001b[0;34m(\u001b[0m\u001b[0me\u001b[0m\u001b[0;34m)\u001b[0m\u001b[0;34m(\u001b[0m\u001b[0mnode_def\u001b[0m\u001b[0;34m,\u001b[0m \u001b[0mop\u001b[0m\u001b[0;34m,\u001b[0m \u001b[0mmessage\u001b[0m\u001b[0;34m)\u001b[0m\u001b[0;34m\u001b[0m\u001b[0m\n\u001b[0m\u001b[1;32m   1375\u001b[0m \u001b[0;34m\u001b[0m\u001b[0m\n\u001b[1;32m   1376\u001b[0m   \u001b[0;32mdef\u001b[0m \u001b[0m_extend_graph\u001b[0m\u001b[0;34m(\u001b[0m\u001b[0mself\u001b[0m\u001b[0;34m)\u001b[0m\u001b[0;34m:\u001b[0m\u001b[0;34m\u001b[0m\u001b[0m\n",
      "\u001b[0;31mInvalidArgumentError\u001b[0m: You must feed a value for placeholder tensor 'Y' with dtype float and shape [?,10]\n\t [[Node: Y = Placeholder[dtype=DT_FLOAT, shape=[?,10], _device=\"/job:localhost/replica:0/task:0/device:CPU:0\"]()]]\n\nCaused by op 'Y', defined at:\n  File \"/Users/karanmaheshwari/anaconda3/lib/python3.6/runpy.py\", line 193, in _run_module_as_main\n    \"__main__\", mod_spec)\n  File \"/Users/karanmaheshwari/anaconda3/lib/python3.6/runpy.py\", line 85, in _run_code\n    exec(code, run_globals)\n  File \"/Users/karanmaheshwari/anaconda3/lib/python3.6/site-packages/ipykernel_launcher.py\", line 16, in <module>\n    app.launch_new_instance()\n  File \"/Users/karanmaheshwari/anaconda3/lib/python3.6/site-packages/traitlets/config/application.py\", line 658, in launch_instance\n    app.start()\n  File \"/Users/karanmaheshwari/anaconda3/lib/python3.6/site-packages/ipykernel/kernelapp.py\", line 478, in start\n    self.io_loop.start()\n  File \"/Users/karanmaheshwari/anaconda3/lib/python3.6/site-packages/zmq/eventloop/ioloop.py\", line 177, in start\n    super(ZMQIOLoop, self).start()\n  File \"/Users/karanmaheshwari/anaconda3/lib/python3.6/site-packages/tornado/ioloop.py\", line 888, in start\n    handler_func(fd_obj, events)\n  File \"/Users/karanmaheshwari/anaconda3/lib/python3.6/site-packages/tornado/stack_context.py\", line 277, in null_wrapper\n    return fn(*args, **kwargs)\n  File \"/Users/karanmaheshwari/anaconda3/lib/python3.6/site-packages/zmq/eventloop/zmqstream.py\", line 440, in _handle_events\n    self._handle_recv()\n  File \"/Users/karanmaheshwari/anaconda3/lib/python3.6/site-packages/zmq/eventloop/zmqstream.py\", line 472, in _handle_recv\n    self._run_callback(callback, msg)\n  File \"/Users/karanmaheshwari/anaconda3/lib/python3.6/site-packages/zmq/eventloop/zmqstream.py\", line 414, in _run_callback\n    callback(*args, **kwargs)\n  File \"/Users/karanmaheshwari/anaconda3/lib/python3.6/site-packages/tornado/stack_context.py\", line 277, in null_wrapper\n    return fn(*args, **kwargs)\n  File \"/Users/karanmaheshwari/anaconda3/lib/python3.6/site-packages/ipykernel/kernelbase.py\", line 283, in dispatcher\n    return self.dispatch_shell(stream, msg)\n  File \"/Users/karanmaheshwari/anaconda3/lib/python3.6/site-packages/ipykernel/kernelbase.py\", line 233, in dispatch_shell\n    handler(stream, idents, msg)\n  File \"/Users/karanmaheshwari/anaconda3/lib/python3.6/site-packages/ipykernel/kernelbase.py\", line 399, in execute_request\n    user_expressions, allow_stdin)\n  File \"/Users/karanmaheshwari/anaconda3/lib/python3.6/site-packages/ipykernel/ipkernel.py\", line 208, in do_execute\n    res = shell.run_cell(code, store_history=store_history, silent=silent)\n  File \"/Users/karanmaheshwari/anaconda3/lib/python3.6/site-packages/ipykernel/zmqshell.py\", line 537, in run_cell\n    return super(ZMQInteractiveShell, self).run_cell(*args, **kwargs)\n  File \"/Users/karanmaheshwari/anaconda3/lib/python3.6/site-packages/IPython/core/interactiveshell.py\", line 2728, in run_cell\n    interactivity=interactivity, compiler=compiler, result=result)\n  File \"/Users/karanmaheshwari/anaconda3/lib/python3.6/site-packages/IPython/core/interactiveshell.py\", line 2850, in run_ast_nodes\n    if self.run_code(code, result):\n  File \"/Users/karanmaheshwari/anaconda3/lib/python3.6/site-packages/IPython/core/interactiveshell.py\", line 2910, in run_code\n    exec(code_obj, self.user_global_ns, self.user_ns)\n  File \"<ipython-input-4-59111956d261>\", line 2, in <module>\n    y=tf.placeholder(tf.float32, [None, 10],name=\"Y\")\n  File \"/Users/karanmaheshwari/anaconda3/lib/python3.6/site-packages/tensorflow/python/ops/array_ops.py\", line 1746, in placeholder\n    return gen_array_ops._placeholder(dtype=dtype, shape=shape, name=name)\n  File \"/Users/karanmaheshwari/anaconda3/lib/python3.6/site-packages/tensorflow/python/ops/gen_array_ops.py\", line 3051, in _placeholder\n    \"Placeholder\", dtype=dtype, shape=shape, name=name)\n  File \"/Users/karanmaheshwari/anaconda3/lib/python3.6/site-packages/tensorflow/python/framework/op_def_library.py\", line 787, in _apply_op_helper\n    op_def=op_def)\n  File \"/Users/karanmaheshwari/anaconda3/lib/python3.6/site-packages/tensorflow/python/framework/ops.py\", line 3271, in create_op\n    op_def=op_def)\n  File \"/Users/karanmaheshwari/anaconda3/lib/python3.6/site-packages/tensorflow/python/framework/ops.py\", line 1650, in __init__\n    self._traceback = self._graph._extract_stack()  # pylint: disable=protected-access\n\nInvalidArgumentError (see above for traceback): You must feed a value for placeholder tensor 'Y' with dtype float and shape [?,10]\n\t [[Node: Y = Placeholder[dtype=DT_FLOAT, shape=[?,10], _device=\"/job:localhost/replica:0/task:0/device:CPU:0\"]()]]\n"
     ]
    }
   ],
   "source": [
    "with tf.Session() as sess:\n",
    "    sess.run(init)\n",
    "    summary_writer = tf.summary.FileWriter('graphs',sess.graph)\n",
    "    for epoch in range(100):\n",
    "        loss_avg=0\n",
    "        num_of_batch=int(mnist.train.num_examples/200)\n",
    "        for i in range (num_of_batch):\n",
    "            batch_xs, batch_ys= mnist.train.next_batch(100)\n",
    "            _,l,summary_str=sess.run([optimizer,loss,merge_summary_op],feed_dict={x:batch_xs, y:batch_ys})\n",
    "            loss_avg += l\n",
    "        loss_avg = loss_avg/num_of_batch\n",
    "        print(\"Epoch{0}: Loss{1}\".format(epoch, loss_avg))\n",
    "    print(\"Done\")\n",
    "    #print(sess.run(accuracy),feed_dict={x:mnist.test.images,y:mnist.test.labels})"
   ]
  },
  {
   "cell_type": "code",
   "execution_count": null,
   "metadata": {},
   "outputs": [],
   "source": [
    "?tf.metrics.accuracy"
   ]
  },
  {
   "cell_type": "code",
   "execution_count": 10,
   "metadata": {},
   "outputs": [],
   "source": [
    "import tensorflow as tf\n",
    "import matplotlib.pyplot as plt\n",
    "import numpy as np"
   ]
  },
  {
   "cell_type": "code",
   "execution_count": 11,
   "metadata": {},
   "outputs": [],
   "source": [
    "def thresh(x):\n",
    "    cond = tf.less(x,tf.zeros(tf.shape(x),dtype=x.dtype))\n",
    "    # if x<y returns true value at that location\n",
    "    out = tf.where(cond,tf.zeros(tf.shape(x)), tf.ones(tf.shape(x)))\n",
    "    return out #takes from x if true or y if false"
   ]
  },
  {
   "cell_type": "code",
   "execution_count": 23,
   "metadata": {},
   "outputs": [
    {
     "data": {
      "text/plain": [
       "array([-10.        ,  -8.94736842,  -7.89473684,  -6.84210526,\n",
       "        -5.78947368,  -4.73684211,  -3.68421053,  -2.63157895,\n",
       "        -1.57894737,  -0.52631579,   0.52631579,   1.57894737,\n",
       "         2.63157895,   3.68421053,   4.73684211,   5.78947368,\n",
       "         6.84210526,   7.89473684,   8.94736842,  10.        ])"
      ]
     },
     "execution_count": 23,
     "metadata": {},
     "output_type": "execute_result"
    }
   ],
   "source": [
    "h = np.linspace(-10,10,20)\n",
    "h"
   ]
  },
  {
   "cell_type": "code",
   "execution_count": 19,
   "metadata": {},
   "outputs": [],
   "source": [
    "out = thresh(h)"
   ]
  },
  {
   "cell_type": "code",
   "execution_count": 24,
   "metadata": {},
   "outputs": [],
   "source": [
    "?tf.less"
   ]
  },
  {
   "cell_type": "code",
   "execution_count": 25,
   "metadata": {},
   "outputs": [],
   "source": [
    "?tf.where"
   ]
  },
  {
   "cell_type": "code",
   "execution_count": 26,
   "metadata": {},
   "outputs": [
    {
     "data": {
      "image/png": "[encoded data removed]",
      "text/plain": [
       "<matplotlib.figure.Figure at 0x181fa72c88>"
      ]
     },
     "metadata": {},
     "output_type": "display_data"
    }
   ],
   "source": [
    "init=tf.global_variables_initializer()\n",
    "with tf.Session() as sess:\n",
    "    sess.run(init)\n",
    "    y=sess.run(out)\n",
    "    plt.xlabel(\"Activity of neuron\")\n",
    "    plt.ylabel(\"Ouput of neuron\")\n",
    "    plt.title(\"Threshold Activation Function\")\n",
    "    plt.plot(h,y)"
   ]
  },
  {
   "cell_type": "code",
   "execution_count": 21,
   "metadata": {},
   "outputs": [],
   "source": [
    "import tensorflow as tf\n",
    "import numpy as np\n",
    "eta=0.4\n",
    "epsilon=0.001\n",
    "max_epochs=100"
   ]
  },
  {
   "cell_type": "code",
   "execution_count": 22,
   "metadata": {},
   "outputs": [],
   "source": [
    "def thresh(x):\n",
    "    cond = tf.less(x,tf.zeros(tf.shape(x),dtype=x.dtype))\n",
    "    # if x<y returns true value at that location\n",
    "    out = tf.where(cond,tf.zeros(tf.shape(x)), tf.ones(tf.shape(x)))\n",
    "    return out #takes from x if true or y if false"
   ]
  },
  {
   "cell_type": "code",
   "execution_count": 23,
   "metadata": {},
   "outputs": [],
   "source": [
    "T,F=1.,0.\n",
    "X_in = [[T,T,T,T],[T,T,F,T],[T,F,T,T],[T,F,F,T],[F,T,T,T],[F,T,F,T],[F,F,T,T],[F,F,F,T]]"
   ]
  },
  {
   "cell_type": "code",
   "execution_count": 24,
   "metadata": {},
   "outputs": [],
   "source": [
    "Y=[[T],[T],[F],[F],[T],[F],[F],[T]]"
   ]
  },
  {
   "cell_type": "code",
   "execution_count": 25,
   "metadata": {},
   "outputs": [],
   "source": [
    "w=tf.Variable(tf.random_normal([4,1],stddev=2,seed=0))\n"
   ]
  },
  {
   "cell_type": "code",
   "execution_count": 26,
   "metadata": {},
   "outputs": [],
   "source": [
    "h=tf.matmul(X_in,w)\n",
    "Y_hat=thresh(h)\n",
    "error=Y-Y_hat\n",
    "mean_error=tf.reduce_mean(tf.square(error))\n"
   ]
  },
  {
   "cell_type": "code",
   "execution_count": 27,
   "metadata": {},
   "outputs": [
    {
     "data": {
      "text/plain": [
       "TensorShape([Dimension(8), Dimension(1)])"
      ]
     },
     "execution_count": 27,
     "metadata": {},
     "output_type": "execute_result"
    }
   ],
   "source": [
    "error.shape"
   ]
  },
  {
   "cell_type": "code",
   "execution_count": null,
   "metadata": {},
   "outputs": [],
   "source": []
  },
  {
   "cell_type": "code",
   "execution_count": 28,
   "metadata": {},
   "outputs": [],
   "source": [
    "dw= eta*tf.matmul(X_in,error,transpose_a=True)"
   ]
  },
  {
   "cell_type": "code",
   "execution_count": 29,
   "metadata": {},
   "outputs": [],
   "source": [
    "train = tf.assign(w,w+dw)"
   ]
  },
  {
   "cell_type": "code",
   "execution_count": 31,
   "metadata": {},
   "outputs": [
    {
     "name": "stdout",
     "output_type": "stream",
     "text": [
      "Epoch: 1 mean error: 0.5 \n",
      "Epoch: 2 mean error: 0.25 \n",
      "Epoch: 3 mean error: 0.25 \n",
      "Epoch: 4 mean error: 0.25 \n",
      "Epoch: 5 mean error: 0.25 \n",
      "Epoch: 6 mean error: 0.375 \n",
      "Epoch: 7 mean error: 0.25 \n",
      "Epoch: 8 mean error: 0.25 \n",
      "Epoch: 9 mean error: 0.25 \n",
      "Epoch: 10 mean error: 0.5 \n",
      "Epoch: 11 mean error: 0.5 \n",
      "Epoch: 12 mean error: 0.625 \n",
      "Epoch: 13 mean error: 0.375 \n",
      "Epoch: 14 mean error: 0.5 \n",
      "Epoch: 15 mean error: 0.25 \n",
      "Epoch: 16 mean error: 0.25 \n",
      "Epoch: 17 mean error: 0.25 \n",
      "Epoch: 18 mean error: 0.25 \n",
      "Epoch: 19 mean error: 0.25 \n",
      "Epoch: 20 mean error: 0.5 \n",
      "Epoch: 21 mean error: 0.5 \n",
      "Epoch: 22 mean error: 0.25 \n",
      "Epoch: 23 mean error: 0.25 \n",
      "Epoch: 24 mean error: 0.5 \n",
      "Epoch: 25 mean error: 0.5 \n",
      "Epoch: 26 mean error: 0.25 \n",
      "Epoch: 27 mean error: 0.25 \n",
      "Epoch: 28 mean error: 0.5 \n",
      "Epoch: 29 mean error: 0.5 \n",
      "Epoch: 30 mean error: 0.25 \n",
      "Epoch: 31 mean error: 0.25 \n",
      "Epoch: 32 mean error: 0.5 \n",
      "Epoch: 33 mean error: 0.5 \n",
      "Epoch: 34 mean error: 0.25 \n",
      "Epoch: 35 mean error: 0.25 \n",
      "Epoch: 36 mean error: 0.5 \n",
      "Epoch: 37 mean error: 0.5 \n",
      "Epoch: 38 mean error: 0.25 \n",
      "Epoch: 39 mean error: 0.25 \n",
      "Epoch: 40 mean error: 0.5 \n",
      "Epoch: 41 mean error: 0.5 \n",
      "Epoch: 42 mean error: 0.25 \n",
      "Epoch: 43 mean error: 0.25 \n",
      "Epoch: 44 mean error: 0.5 \n",
      "Epoch: 45 mean error: 0.5 \n",
      "Epoch: 46 mean error: 0.25 \n",
      "Epoch: 47 mean error: 0.25 \n",
      "Epoch: 48 mean error: 0.5 \n",
      "Epoch: 49 mean error: 0.5 \n",
      "Epoch: 50 mean error: 0.25 \n",
      "Epoch: 51 mean error: 0.25 \n",
      "Epoch: 52 mean error: 0.5 \n",
      "Epoch: 53 mean error: 0.5 \n",
      "Epoch: 54 mean error: 0.25 \n",
      "Epoch: 55 mean error: 0.25 \n",
      "Epoch: 56 mean error: 0.5 \n",
      "Epoch: 57 mean error: 0.5 \n",
      "Epoch: 58 mean error: 0.25 \n",
      "Epoch: 59 mean error: 0.25 \n",
      "Epoch: 60 mean error: 0.5 \n",
      "Epoch: 61 mean error: 0.5 \n",
      "Epoch: 62 mean error: 0.25 \n",
      "Epoch: 63 mean error: 0.25 \n",
      "Epoch: 64 mean error: 0.5 \n",
      "Epoch: 65 mean error: 0.5 \n",
      "Epoch: 66 mean error: 0.25 \n",
      "Epoch: 67 mean error: 0.25 \n",
      "Epoch: 68 mean error: 0.5 \n",
      "Epoch: 69 mean error: 0.5 \n",
      "Epoch: 70 mean error: 0.25 \n",
      "Epoch: 71 mean error: 0.25 \n",
      "Epoch: 72 mean error: 0.5 \n",
      "Epoch: 73 mean error: 0.5 \n",
      "Epoch: 74 mean error: 0.25 \n",
      "Epoch: 75 mean error: 0.25 \n",
      "Epoch: 76 mean error: 0.5 \n",
      "Epoch: 77 mean error: 0.5 \n",
      "Epoch: 78 mean error: 0.25 \n",
      "Epoch: 79 mean error: 0.25 \n",
      "Epoch: 80 mean error: 0.5 \n",
      "Epoch: 81 mean error: 0.5 \n",
      "Epoch: 82 mean error: 0.25 \n",
      "Epoch: 83 mean error: 0.25 \n",
      "Epoch: 84 mean error: 0.5 \n",
      "Epoch: 85 mean error: 0.5 \n",
      "Epoch: 86 mean error: 0.25 \n",
      "Epoch: 87 mean error: 0.25 \n",
      "Epoch: 88 mean error: 0.5 \n",
      "Epoch: 89 mean error: 0.5 \n",
      "Epoch: 90 mean error: 0.25 \n",
      "Epoch: 91 mean error: 0.25 \n",
      "Epoch: 92 mean error: 0.5 \n",
      "Epoch: 93 mean error: 0.5 \n",
      "Epoch: 94 mean error: 0.25 \n",
      "Epoch: 95 mean error: 0.25 \n",
      "Epoch: 96 mean error: 0.5 \n",
      "Epoch: 97 mean error: 0.5 \n",
      "Epoch: 98 mean error: 0.25 \n",
      "Epoch: 99 mean error: 0.25 \n",
      "Epoch: 100 mean error: 0.5 \n"
     ]
    }
   ],
   "source": [
    "init=tf.global_variables_initializer()\n",
    "err=1\n",
    "epoch=0\n",
    "with tf.Session() as sess:\n",
    "    sess.run(init)\n",
    "    while err>epsilon and epoch<max_epochs:\n",
    "        epoch += 1\n",
    "        err,_=sess.run([mean_error,train])\n",
    "        print(\"Epoch: {0} mean error: {1} \".format(epoch,err))"
   ]
  },
  {
   "cell_type": "code",
   "execution_count": 33,
   "metadata": {},
   "outputs": [],
   "source": [
    "import tensorflow as tf \n",
    "from tensorflow.examples.tutorials.mnist import input_data"
   ]
  },
  {
   "cell_type": "code",
   "execution_count": 62,
   "metadata": {},
   "outputs": [
    {
     "name": "stdout",
     "output_type": "stream",
     "text": [
      "Extracting MNIST_data/train-images-idx3-ubyte.gz\n",
      "Extracting MNIST_data/train-labels-idx1-ubyte.gz\n",
      "Extracting MNIST_data/t10k-images-idx3-ubyte.gz\n",
      "Extracting MNIST_data/t10k-labels-idx1-ubyte.gz\n"
     ]
    }
   ],
   "source": [
    "mnist = input_data.read_data_sets(\"MNIST_data/\",one_hot=True)"
   ]
  },
  {
   "cell_type": "code",
   "execution_count": 35,
   "metadata": {},
   "outputs": [],
   "source": [
    "n_input = 784\n",
    "n_classes=10\n",
    "\n",
    "max_epochs=10000\n",
    "lr=0.5\n",
    "batch_size=10\n",
    "seed=0\n",
    "n_hidden=30 #number of neurons in hidden layer"
   ]
  },
  {
   "cell_type": "code",
   "execution_count": 36,
   "metadata": {},
   "outputs": [],
   "source": [
    "def dersigma(x):\n",
    "    return tf.multiply(tf.sigmoid(x), tf.subtract(tf.constant(1.0), tf.sigmoid(x)))"
   ]
  },
  {
   "cell_type": "code",
   "execution_count": 37,
   "metadata": {},
   "outputs": [],
   "source": [
    "x_in = tf.placeholder(tf.float32, [None, n_input])\n",
    "y = tf.placeholder(tf.float32, [None,n_classes])"
   ]
  },
  {
   "cell_type": "code",
   "execution_count": 38,
   "metadata": {},
   "outputs": [],
   "source": [
    "def mlp(x, weights, biases):\n",
    "    h_layer_1 = tf.add(tf.matmul(x, weights['h1']), biases['h1'])\n",
    "    out_layer_1 = tf.sigmoid(h_layer_1)\n",
    "    h_out = tf.add(tf.matmul(out_layer_1, weights['out']), biases['out'])\n",
    "    return tf.sigmoid(h_out), h_out, out_layer_1, h_layer_1\n"
   ]
  },
  {
   "cell_type": "code",
   "execution_count": 40,
   "metadata": {},
   "outputs": [],
   "source": [
    "weights = {\n",
    "    'h1': tf.Variable(tf.random_normal([n_input,n_hidden],seed=seed)),\n",
    "    'out': tf.Variable(tf.random_normal([n_hidden,n_classes],seed=seed))\n",
    "}\n",
    "biases = {\n",
    "    'h1': tf.Variable(tf.random_normal([1,n_hidden],seed=seed)),\n",
    "    'out': tf.Variable(tf.random_normal([1,n_classes],seed=seed))\n",
    "\n",
    "}"
   ]
  },
  {
   "cell_type": "code",
   "execution_count": 51,
   "metadata": {},
   "outputs": [],
   "source": [
    "y_hat , h_2, o_1,h_1 = mlp(x_in,weights,biases)\n",
    "\n",
    "err = y_hat - y\n",
    "\n",
    "delta_2 = tf.multiply(err, dersigma(h_2))\n",
    "delta_w_2 = tf.matmul(tf.transpose(o_1),delta_2)\n",
    "wtd_error = tf.matmul(delta_2, tf.transpose(weights['out']))\n",
    "delta_1 = tf.multiply(wtd_error, dersigma(h_1))\n",
    "delta_w_1 = tf.matmul(tf.transpose(x_in),delta_1)\n",
    "\n"
   ]
  },
  {
   "cell_type": "code",
   "execution_count": null,
   "metadata": {},
   "outputs": [],
   "source": []
  },
  {
   "cell_type": "code",
   "execution_count": 52,
   "metadata": {},
   "outputs": [],
   "source": [
    "eta = tf.constant(lr)\n",
    "\n",
    "step = [\n",
    "    tf.assign(weights['h1'],tf.subtract(weights['h1'], tf.multiply(eta,delta_w_1))),\n",
    "    tf.assign(biases['h1'],tf.subtract(biases['h1'], tf.multiply(eta,tf.reduce_mean(delta_w_1)))), \n",
    "    tf.assign(weights['out'],tf.subtract(weights['out'], tf.multiply(eta,delta_w_2))),\n",
    "    tf.assign(biases['out'],tf.subtract(biases['out'], tf.multiply(eta,tf.reduce_mean(delta_w_2)))),\n",
    "]"
   ]
  },
  {
   "cell_type": "code",
   "execution_count": 58,
   "metadata": {},
   "outputs": [],
   "source": [
    "?tf.argmax\n",
    "?tf.cast\n",
    "?tf.reduce_sum"
   ]
  },
  {
   "cell_type": "code",
   "execution_count": null,
   "metadata": {},
   "outputs": [],
   "source": []
  },
  {
   "cell_type": "code",
   "execution_count": 53,
   "metadata": {},
   "outputs": [],
   "source": [
    "acct_mat = tf.equal(tf.argmax(y_hat,1), tf.argmax(y,1))\n",
    "accuracy = tf.reduce_sum(tf.cast(acct_mat, tf.float32))"
   ]
  },
  {
   "cell_type": "code",
   "execution_count": 54,
   "metadata": {},
   "outputs": [],
   "source": [
    "init = tf.global_variables_initializer()"
   ]
  },
  {
   "cell_type": "code",
   "execution_count": 55,
   "metadata": {},
   "outputs": [
    {
     "name": "stdout",
     "output_type": "stream",
     "text": [
      "epoch: 0 Accuracy Train%: 9.873333333333333 Accuracy Test%: 10.73\n",
      "epoch: 1000 Accuracy Train%: 77.735 Accuracy Test%: 85.14\n",
      "epoch: 2000 Accuracy Train%: 81.275 Accuracy Test%: 88.87\n",
      "epoch: 3000 Accuracy Train%: 81.84166666666667 Accuracy Test%: 89.61\n",
      "epoch: 4000 Accuracy Train%: 82.88833333333334 Accuracy Test%: 90.8\n",
      "epoch: 5000 Accuracy Train%: 83.62166666666667 Accuracy Test%: 90.95\n",
      "epoch: 6000 Accuracy Train%: 83.88 Accuracy Test%: 91.76\n",
      "epoch: 7000 Accuracy Train%: 84.45333333333333 Accuracy Test%: 92.29\n",
      "epoch: 8000 Accuracy Train%: 84.51333333333334 Accuracy Test%: 92.03\n",
      "epoch: 9000 Accuracy Train%: 84.30666666666667 Accuracy Test%: 92.08\n"
     ]
    }
   ],
   "source": [
    "with tf.Session() as sess:\n",
    "    sess.run(init)\n",
    "    for epoch in range(max_epochs):\n",
    "        batch_xs, batch_ys = mnist.train.next_batch(batch_size)\n",
    "        sess.run(step, feed_dict={x_in:batch_xs, y:batch_ys})\n",
    "        if epoch % 1000 ==0:\n",
    "            acc_test = sess.run(accuracy, feed_dict = {x_in: mnist.test.images,\n",
    "                                                      y : mnist.test.labels})\n",
    "            acc_train = sess.run(accuracy, feed_dict= {x_in: mnist.train.images,\n",
    "                                                      y : mnist.train.labels})\n",
    "            print('epoch: {0} Accuracy Train%: {1} Accuracy Test%: {2}'.format(epoch, acc_train/600,(acc_test/100)))"
   ]
  },
  {
   "cell_type": "code",
   "execution_count": null,
   "metadata": {},
   "outputs": [],
   "source": []
  },
  {
   "cell_type": "code",
   "execution_count": 59,
   "metadata": {},
   "outputs": [],
   "source": [
    "loss = tf.reduce_mean(tf.square(y-y_hat, name=\"loss\"))\n",
    "optimizer = tf.train.GradientDescentOptimizer(learning_rate = learning_rate)\n",
    "train = optimizer.minimize(loss)"
   ]
  },
  {
   "cell_type": "code",
   "execution_count": 60,
   "metadata": {},
   "outputs": [],
   "source": [
    "import tensorflow.contrib.layers as layers\n",
    "from tensorflow.python import debug as tf_debug\n",
    "\n",
    "n_hidden = 30\n",
    "n_classes = 10\n",
    "n_input = 784\n",
    "\n",
    "batch_size = 200\n",
    "eta = 0.001\n",
    "max_epoch =10"
   ]
  },
  {
   "cell_type": "code",
   "execution_count": 63,
   "metadata": {},
   "outputs": [],
   "source": [
    "def mlp(x):\n",
    "    fc1 = layers.fully_connected(x, n_hidden, activation_fn=tf.nn.relu, scope='fc1')\n",
    "    out = layers.fully_connected(fc1, n_classes, activation_fn=None, scope='out')\n",
    "    return out"
   ]
  },
  {
   "cell_type": "code",
   "execution_count": 64,
   "metadata": {},
   "outputs": [
    {
     "name": "stdout",
     "output_type": "stream",
     "text": [
      "WARNING:tensorflow:From <ipython-input-64-285dca45bfcf>:5: softmax_cross_entropy_with_logits (from tensorflow.python.ops.nn_ops) is deprecated and will be removed in a future version.\n",
      "Instructions for updating:\n",
      "\n",
      "Future major versions of TensorFlow will allow gradients to flow\n",
      "into the labels input on backprop by default.\n",
      "\n",
      "See tf.nn.softmax_cross_entropy_with_logits_v2.\n",
      "\n"
     ]
    }
   ],
   "source": [
    "x = tf.placeholder(tf.float32, [None, n_input], name='placeholder_x')\n",
    "y = tf.placeholder(tf.float32, [None, n_classes], name ='placeholder_y')\n",
    "y_hat = mlp(x)\n",
    "\n",
    "loss = tf.reduce_mean(tf.nn.softmax_cross_entropy_with_logits(labels=y, logits=y_hat))\n",
    "train = tf.train.AdamOptimizer(learning_rate = eta).minimize(loss)\n",
    "init = tf.global_variables_initializer()"
   ]
  },
  {
   "cell_type": "code",
   "execution_count": 69,
   "metadata": {},
   "outputs": [
    {
     "name": "stdout",
     "output_type": "stream",
     "text": [
      "Epoch 00, Loss = 0.632870\n",
      "Epoch 01, Loss = 0.288105\n",
      "Epoch 02, Loss = 0.242292\n",
      "Epoch 03, Loss = 0.214242\n",
      "Epoch 04, Loss = 0.193672\n",
      "Epoch 05, Loss = 0.176590\n",
      "Epoch 06, Loss = 0.164120\n",
      "Epoch 07, Loss = 0.152982\n",
      "Epoch 08, Loss = 0.143270\n",
      "Epoch 09, Loss = 0.134114\n",
      "Accuracy%: 0.9563\n"
     ]
    }
   ],
   "source": [
    "with tf.Session() as sess:\n",
    "    sess.run(init)\n",
    "    for epoch in range(10):\n",
    "        epoch_loss = 0.0\n",
    "        batch_steps = int (mnist.train.num_examples/batch_size)\n",
    "        for i in range(batch_steps):\n",
    "            batch_x, batch_y = mnist.train.next_batch(batch_size)\n",
    "            _,c = sess.run([train,loss], feed_dict={x:batch_x, y:batch_y})\n",
    "            epoch_loss += c /batch_steps\n",
    "        print('Epoch %02d, Loss = %.6f' % (epoch, epoch_loss))\n",
    "    cp = tf.equal(tf.argmax(y_hat,1), tf.argmax(y,1))\n",
    "    accuracy = tf.reduce_mean(tf.cast(cp, tf.float32))\n",
    "    print(\"Accuracy%:\", accuracy.eval({x: mnist.test.images, y:mnist.test.labels}))"
   ]
  },
  {
   "cell_type": "code",
   "execution_count": null,
   "metadata": {},
   "outputs": [],
   "source": []
  },
  {
   "cell_type": "code",
   "execution_count": null,
   "metadata": {},
   "outputs": [],
   "source": []
  },
  {
   "cell_type": "code",
   "execution_count": 70,
   "metadata": {},
   "outputs": [],
   "source": [
    "#KERAS"
   ]
  },
  {
   "cell_type": "code",
   "execution_count": 73,
   "metadata": {},
   "outputs": [],
   "source": [
    "from keras.layers import Dense\n",
    "from keras.models import Sequential"
   ]
  },
  {
   "cell_type": "code",
   "execution_count": 74,
   "metadata": {},
   "outputs": [],
   "source": [
    "model = Sequential()"
   ]
  },
  {
   "cell_type": "raw",
   "metadata": {},
   "source": [
    "# Add layers \n",
    "# model.add()\n",
    "\n",
    "model.add(Dense(32,input_dim=13,activation=\"relu\"))\n",
    "model.add(10,activation=\"sigmoid\")\n",
    "\n",
    "model.compile(optimizer='rmsprop',loss='categorical_crossentropy', metrics=['accuracy'])\n",
    "\n",
    "\n",
    "model.fit(data, label, epochs=10, batch_size=32)\n",
    "\n",
    "model.predict(test_data, batch_size=10)"
   ]
  },
  {
   "cell_type": "code",
   "execution_count": null,
   "metadata": {},
   "outputs": [],
   "source": []
  },
  {
   "cell_type": "code",
   "execution_count": null,
   "metadata": {},
   "outputs": [],
   "source": []
  },
  {
   "cell_type": "code",
   "execution_count": 2,
   "metadata": {},
   "outputs": [],
   "source": [
    "import tensorflow as tf\n",
    "import matplotlib.pyplot as plt \n",
    "import numpy as np\n",
    "import random\n",
    "from __future__ import division, print_function\n",
    "from tensorflow.examples.tutorials.mnist import input_data"
   ]
  },
  {
   "cell_type": "code",
   "execution_count": 3,
   "metadata": {},
   "outputs": [
    {
     "name": "stdout",
     "output_type": "stream",
     "text": [
      "Extracting MNIST_data/train-images-idx3-ubyte.gz\n",
      "Extracting MNIST_data/train-labels-idx1-ubyte.gz\n",
      "Extracting MNIST_data/t10k-images-idx3-ubyte.gz\n",
      "Extracting MNIST_data/t10k-labels-idx1-ubyte.gz\n"
     ]
    }
   ],
   "source": [
    "mnist = input_data.read_data_sets(\"MNIST_data/\",one_hot=True)"
   ]
  },
  {
   "cell_type": "code",
   "execution_count": 9,
   "metadata": {},
   "outputs": [
    {
     "data": {
      "text/plain": [
       "10"
      ]
     },
     "execution_count": 9,
     "metadata": {},
     "output_type": "execute_result"
    }
   ],
   "source": [
    "mnist.train.labels.shape[1]"
   ]
  },
  {
   "cell_type": "code",
   "execution_count": 63,
   "metadata": {},
   "outputs": [],
   "source": [
    "def train_size(num):\n",
    "    print ('Total Training images in dataset = ' +str(mnist.train.images.shape[0]))\n",
    "    x_train = mnist.train.images.shape\n",
    "    print('x_train examples loaded =' +str(x_train))\n",
    "    y_train = mnist.train.labels.shape\n",
    "    print('y_train Examples loaded ='+str(y_train))\n",
    "    return x_train, y_train\n",
    "    "
   ]
  },
  {
   "cell_type": "code",
   "execution_count": 55,
   "metadata": {},
   "outputs": [],
   "source": [
    "def test_size(num):\n",
    "    print ('Total Testing images in dataset = ' +str(mnist.test.labels.shape[0]))\n",
    "    x_test = mnist.test.images.shape\n",
    "    print('x_test examples loaded =' +str(x_test))\n",
    "    y_test = mnist.test.labels.shape\n",
    "    print('y_test Examples loaded ='+str(y_test))\n",
    "    return x_test, y_test\n",
    "    "
   ]
  },
  {
   "cell_type": "code",
   "execution_count": 56,
   "metadata": {},
   "outputs": [],
   "source": [
    "def display_digit(num):\n",
    "    print(y_train[num])\n",
    "    label = y_train[num].argmax(axis=0)\n",
    "    image = x_train[num].reshape([28,28])\n",
    "    plt.title('Example: {0} Label'.format(num))"
   ]
  },
  {
   "cell_type": "code",
   "execution_count": 38,
   "metadata": {},
   "outputs": [],
   "source": [
    "def display_mult_flat(start,stop):\n",
    "    images=x_train[start].reshape([1,784]) \n",
    "    for i in range(start+1,stop):\n",
    "        images=np.concatenate((images,x_train[i].reshape([1,784])))\n",
    "    \n",
    "    "
   ]
  },
  {
   "cell_type": "code",
   "execution_count": 67,
   "metadata": {},
   "outputs": [
    {
     "name": "stdout",
     "output_type": "stream",
     "text": [
      "Total Training images in dataset = 55000\n",
      "x_train examples loaded =(55000, 784)\n",
      "y_train Examples loaded =(55000, 10)\n"
     ]
    },
    {
     "ename": "TypeError",
     "evalue": "'tuple' object is not callable",
     "output_type": "error",
     "traceback": [
      "\u001b[0;31m---------------------------------------------------------------------------\u001b[0m",
      "\u001b[0;31mTypeError\u001b[0m                                 Traceback (most recent call last)",
      "\u001b[0;32m<ipython-input-67-cd1757e3fdb2>\u001b[0m in \u001b[0;36m<module>\u001b[0;34m()\u001b[0m\n\u001b[1;32m      1\u001b[0m \u001b[0mx_train\u001b[0m\u001b[0;34m,\u001b[0m \u001b[0my_train\u001b[0m \u001b[0;34m=\u001b[0m \u001b[0mtrain_size\u001b[0m\u001b[0;34m(\u001b[0m\u001b[0;36m55000\u001b[0m\u001b[0;34m)\u001b[0m\u001b[0;34m\u001b[0m\u001b[0m\n\u001b[0;32m----> 2\u001b[0;31m \u001b[0my_train\u001b[0m\u001b[0;34m(\u001b[0m\u001b[0;36m1\u001b[0m\u001b[0;34m)\u001b[0m\u001b[0;34m\u001b[0m\u001b[0m\n\u001b[0m",
      "\u001b[0;31mTypeError\u001b[0m: 'tuple' object is not callable"
     ]
    }
   ],
   "source": [
    "x_train, y_train = train_size(55000)\n"
   ]
  },
  {
   "cell_type": "code",
   "execution_count": 51,
   "metadata": {},
   "outputs": [
    {
     "ename": "IndexError",
     "evalue": "tuple index out of range",
     "output_type": "error",
     "traceback": [
      "\u001b[0;31m---------------------------------------------------------------------------\u001b[0m",
      "\u001b[0;31mIndexError\u001b[0m                                Traceback (most recent call last)",
      "\u001b[0;32m<ipython-input-51-8c8cb1c5c964>\u001b[0m in \u001b[0;36m<module>\u001b[0;34m()\u001b[0m\n\u001b[0;32m----> 1\u001b[0;31m \u001b[0mdisplay_digit\u001b[0m\u001b[0;34m(\u001b[0m\u001b[0mnp\u001b[0m\u001b[0;34m.\u001b[0m\u001b[0mrandom\u001b[0m\u001b[0;34m.\u001b[0m\u001b[0mrandint\u001b[0m\u001b[0;34m(\u001b[0m\u001b[0;36m0\u001b[0m\u001b[0;34m,\u001b[0m\u001b[0mx_train\u001b[0m\u001b[0;34m[\u001b[0m\u001b[0;36m0\u001b[0m\u001b[0;34m]\u001b[0m\u001b[0;34m)\u001b[0m\u001b[0;34m)\u001b[0m\u001b[0;34m\u001b[0m\u001b[0m\n\u001b[0m",
      "\u001b[0;32m<ipython-input-49-f60f8cd7f608>\u001b[0m in \u001b[0;36mdisplay_digit\u001b[0;34m(num)\u001b[0m\n\u001b[1;32m      1\u001b[0m \u001b[0;32mdef\u001b[0m \u001b[0mdisplay_digit\u001b[0m\u001b[0;34m(\u001b[0m\u001b[0mnum\u001b[0m\u001b[0;34m)\u001b[0m\u001b[0;34m:\u001b[0m\u001b[0;34m\u001b[0m\u001b[0m\n\u001b[0;32m----> 2\u001b[0;31m     \u001b[0mprint\u001b[0m\u001b[0;34m(\u001b[0m\u001b[0my_train\u001b[0m\u001b[0;34m[\u001b[0m\u001b[0mnum\u001b[0m\u001b[0;34m]\u001b[0m\u001b[0;34m)\u001b[0m\u001b[0;34m\u001b[0m\u001b[0m\n\u001b[0m\u001b[1;32m      3\u001b[0m     \u001b[0mlabel\u001b[0m \u001b[0;34m=\u001b[0m \u001b[0my_train\u001b[0m\u001b[0;34m[\u001b[0m\u001b[0mnum\u001b[0m\u001b[0;34m]\u001b[0m\u001b[0;34m.\u001b[0m\u001b[0margmax\u001b[0m\u001b[0;34m(\u001b[0m\u001b[0maxis\u001b[0m\u001b[0;34m=\u001b[0m\u001b[0;36m0\u001b[0m\u001b[0;34m)\u001b[0m\u001b[0;34m\u001b[0m\u001b[0m\n\u001b[1;32m      4\u001b[0m     \u001b[0mimage\u001b[0m \u001b[0;34m=\u001b[0m \u001b[0mx_train\u001b[0m\u001b[0;34m[\u001b[0m\u001b[0mnum\u001b[0m\u001b[0;34m]\u001b[0m\u001b[0;34m.\u001b[0m\u001b[0mreshape\u001b[0m\u001b[0;34m(\u001b[0m\u001b[0;34m[\u001b[0m\u001b[0;36m28\u001b[0m\u001b[0;34m,\u001b[0m\u001b[0;36m28\u001b[0m\u001b[0;34m]\u001b[0m\u001b[0;34m)\u001b[0m\u001b[0;34m\u001b[0m\u001b[0m\n\u001b[1;32m      5\u001b[0m     \u001b[0mplt\u001b[0m\u001b[0;34m.\u001b[0m\u001b[0mtitle\u001b[0m\u001b[0;34m(\u001b[0m\u001b[0;34m'Example: {0} Label'\u001b[0m\u001b[0;34m.\u001b[0m\u001b[0mformat\u001b[0m\u001b[0;34m(\u001b[0m\u001b[0mnum\u001b[0m\u001b[0;34m)\u001b[0m\u001b[0;34m)\u001b[0m\u001b[0;34m\u001b[0m\u001b[0m\n",
      "\u001b[0;31mIndexError\u001b[0m: tuple index out of range"
     ]
    }
   ],
   "source": [
    "display_digit(np.random.randint(0,x_tra))"
   ]
  },
  {
   "cell_type": "code",
   "execution_count": 68,
   "metadata": {},
   "outputs": [],
   "source": [
    "training_iters = 500\n",
    "batch_size = 128\n",
    "#display_step = 10\n",
    "n_input = 784\n",
    "n_classes = 10\n",
    "dropout=0.85\n",
    "eta = 0.001"
   ]
  },
  {
   "cell_type": "code",
   "execution_count": 70,
   "metadata": {},
   "outputs": [],
   "source": [
    "x = tf.placeholder(tf.float32, [None, n_input])\n",
    "y = tf.placeholder(tf.float32, [None, n_classes])\n"
   ]
  },
  {
   "cell_type": "code",
   "execution_count": null,
   "metadata": {},
   "outputs": [],
   "source": [
    "def conv2d(x,W,b,strides=1):\n",
    "    x=tf.nn.conv2d(x,W,strides=[1,strides])"
   ]
  },
  {
   "cell_type": "code",
   "execution_count": 71,
   "metadata": {},
   "outputs": [],
   "source": [
    "?tf.nn.conv2d"
   ]
  },
  {
   "cell_type": "code",
   "execution_count": null,
   "metadata": {},
   "outputs": [],
   "source": []
  },
  {
   "cell_type": "code",
   "execution_count": null,
   "metadata": {},
   "outputs": [],
   "source": []
  }
 ],
 "metadata": {
  "kernelspec": {
   "display_name": "Python 3",
   "language": "python",
   "name": "python3"
  },
  "language_info": {
   "codemirror_mode": {
    "name": "ipython",
    "version": 3
   },
   "file_extension": ".py",
   "mimetype": "text/x-python",
   "name": "python",
   "nbconvert_exporter": "python",
   "pygments_lexer": "ipython3",
   "version": "3.6.4"
  }
 },
 "nbformat": 4,
 "nbformat_minor": 2
}
